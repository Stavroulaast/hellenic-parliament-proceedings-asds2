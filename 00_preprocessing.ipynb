{
 "cells": [
  {
   "cell_type": "markdown",
   "id": "91a09ddb-aa3a-4667-93af-58c0257b9ad4",
   "metadata": {},
   "source": [
    "## 📙 00 Preprocessing\n",
    "\n",
    "This notebook includes the preparation of Hellenic Parliament Proceedings dataset for analysis. This preprocessing steps follow best practices in political text analysis (Denny & Spirling 2017) to accomodate the specific needs for each downstream analysis of each Research Question."
   ]
  },
  {
   "cell_type": "code",
   "execution_count": 1,
   "id": "6bf437f9-fb5d-48e9-a4ad-ff0a9d310c9e",
   "metadata": {},
   "outputs": [
    {
     "name": "stderr",
     "output_type": "stream",
     "text": [
      "/Users/stavast/anaconda3/envs/proceedings-asds2/lib/python3.10/site-packages/stopwordsiso/_core.py:4: UserWarning: pkg_resources is deprecated as an API. See https://setuptools.pypa.io/en/latest/pkg_resources.html. The pkg_resources package is slated for removal as early as 2025-11-30. Refrain from using this package or pin to Setuptools<81.\n",
      "  import pkg_resources\n"
     ]
    }
   ],
   "source": [
    "#data-cleaning-processing-core-libs\n",
    "import pandas as pd\n",
    "import numpy as np\n",
    "from tqdm.notebook import tqdm\n",
    "import time\n",
    "tqdm.pandas()\n",
    "import ipywidgets as widgets\n",
    "widgets.IntSlider()\n",
    "\n",
    "#text-processing\n",
    "import re\n",
    "import string\n",
    "import unicodedata\n",
    "\n",
    "#visualization\n",
    "import matplotlib.pyplot as plt\n",
    "import seaborn as sns\n",
    "\n",
    "#greek-nlp-toolkit-Loukas(2024)\n",
    "from gr_nlp_toolkit import Pipeline\n",
    "\n",
    "#greek-stopwords\n",
    "import stopwordsiso as stopwords_iso\n",
    "greek_stopwords = list(stopwords_iso.stopwords(\"el\"))\n",
    "\n",
    "from nltk.corpus import stopwords\n",
    "greek_stopwords_nltk = stopwords.words(\"greek\")\n",
    "combined = list(set(greek_stopwords + greek_stopwords_nltk))"
   ]
  },
  {
   "cell_type": "code",
   "execution_count": 35,
   "id": "10ce2e55-541d-4aee-9348-071ea722f43a",
   "metadata": {},
   "outputs": [],
   "source": [
    "df = pd.read_csv('par10_20c.csv')"
   ]
  },
  {
   "cell_type": "code",
   "execution_count": 36,
   "id": "27ab5f70-3958-4d6e-8624-a3106b644eab",
   "metadata": {},
   "outputs": [
    {
     "name": "stdout",
     "output_type": "stream",
     "text": [
      "<class 'pandas.core.frame.DataFrame'>\n",
      "RangeIndex: 536446 entries, 0 to 536445\n",
      "Data columns (total 11 columns):\n",
      " #   Column                 Non-Null Count   Dtype \n",
      "---  ------                 --------------   ----- \n",
      " 0   member_name            522524 non-null  object\n",
      " 1   sitting_date           536446 non-null  object\n",
      " 2   parliamentary_period   536446 non-null  object\n",
      " 3   parliamentary_session  536446 non-null  object\n",
      " 4   parliamentary_sitting  536446 non-null  object\n",
      " 5   political_party        536327 non-null  object\n",
      " 6   government             536446 non-null  object\n",
      " 7   member_region          513121 non-null  object\n",
      " 8   roles                  522524 non-null  object\n",
      " 9   member_gender          522524 non-null  object\n",
      " 10  speech                 536446 non-null  object\n",
      "dtypes: object(11)\n",
      "memory usage: 45.0+ MB\n"
     ]
    }
   ],
   "source": [
    "df.info()"
   ]
  },
  {
   "cell_type": "markdown",
   "id": "25fd985f-2aef-447b-8b71-8efafe785964",
   "metadata": {
    "jp-MarkdownHeadingCollapsed": true
   },
   "source": [
    "### Data handling & Cleaning"
   ]
  },
  {
   "cell_type": "code",
   "execution_count": 37,
   "id": "752c6341-1deb-4994-a7a9-12fac0bc1480",
   "metadata": {},
   "outputs": [],
   "source": [
    "columns_to_drop = [\"parliamentary_session\", \"parliamentary_sitting\", \"parliamentary_period\",\"member_region\"]\n",
    "df = df.drop(columns=columns_to_drop)"
   ]
  },
  {
   "cell_type": "code",
   "execution_count": 38,
   "id": "76db4d81-6d4b-483f-846a-796ad159b95c",
   "metadata": {},
   "outputs": [
    {
     "name": "stdout",
     "output_type": "stream",
     "text": [
      "member_name        2.60\n",
      "roles              2.60\n",
      "member_gender      2.60\n",
      "political_party    0.02\n",
      "sitting_date       0.00\n",
      "government         0.00\n",
      "speech             0.00\n",
      "dtype: float64\n"
     ]
    }
   ],
   "source": [
    "missing_percent = df.isnull().mean().sort_values(ascending=False) * 100\n",
    "print(missing_percent.round(2))"
   ]
  },
  {
   "cell_type": "code",
   "execution_count": 39,
   "id": "74909e81-34d1-4d62-b084-7213a63d3578",
   "metadata": {},
   "outputs": [],
   "source": [
    "df = df.dropna(subset=[\"member_name\", \"roles\", \"member_gender\", \"political_party\"])"
   ]
  },
  {
   "cell_type": "code",
   "execution_count": 40,
   "id": "f6df0d2f-3b78-4a47-8933-abf5b7e6b396",
   "metadata": {},
   "outputs": [],
   "source": [
    "df['sitting_date'] = pd.to_datetime(df['sitting_date'], errors='coerce')"
   ]
  },
  {
   "cell_type": "code",
   "execution_count": 41,
   "id": "12ccb1b7-9318-4e03-9a51-76fd41c19988",
   "metadata": {},
   "outputs": [],
   "source": [
    "df['year'] = df['sitting_date'].dt.year"
   ]
  },
  {
   "cell_type": "code",
   "execution_count": 42,
   "id": "491d6c02-ad32-46ec-8990-edd72a0e5d61",
   "metadata": {},
   "outputs": [
    {
     "data": {
      "text/plain": [
       "array(['πανελληνιο σοσιαλιστικο κινημα', 'νεα δημοκρατια',\n",
       "       'εξωκοινοβουλευτικός', 'κομμουνιστικο κομμα ελλαδας',\n",
       "       'λαικος ορθοδοξος συναγερμος',\n",
       "       'συνασπισμος ριζοσπαστικης αριστερας',\n",
       "       'ανεξαρτητοι (εκτος κομματος)', 'δημοκρατικη αριστερα',\n",
       "       'ανεξαρτητοι ελληνες - πανος καμμενος',\n",
       "       'λαικος συνδεσμος - χρυση αυγη',\n",
       "       'ανεξαρτητοι δημοκρατικοι βουλευτες', 'το ποταμι',\n",
       "       'ανεξαρτητοι ελληνες εθνικη πατριωτικη δημοκρατικη συμμαχια',\n",
       "       'λαικη ενοτητα',\n",
       "       'δημοκρατικη συμπαραταξη (πανελληνιο σοσιαλιστικο κινημα - δημοκρατικη αριστερα)',\n",
       "       'ενωση κεντρωων', 'κινημα αλλαγης',\n",
       "       'ελληνικη λυση - κυριακος βελοπουλος',\n",
       "       'μετωπο ευρωπαικης ρεαλιστικης ανυπακοης (μερα25)'], dtype=object)"
      ]
     },
     "execution_count": 42,
     "metadata": {},
     "output_type": "execute_result"
    }
   ],
   "source": [
    "df['political_party'].unique()"
   ]
  },
  {
   "cell_type": "code",
   "execution_count": 43,
   "id": "69b09127-2634-44d3-93ce-c723877b49a3",
   "metadata": {},
   "outputs": [
    {
     "data": {
      "text/plain": [
       "array([\"['παπανδρεου α. γεωργιου(06/10/2009-11/11/2011)']\",\n",
       "       \"['παπαδημου λουκα δ.(11/11/2011-17/05/2012)']\",\n",
       "       \"['πικραμμενου παναγιωτη οθ. (υπηρεσιακη)(17/05/2012-21/06/2012)']\",\n",
       "       \"['σαμαρα κ. αντωνιου(21/06/2012-26/01/2015)']\",\n",
       "       \"['τσιπρα π. αλεξιου(26/01/2015-27/08/2015)']\",\n",
       "       \"['τσιπρα π. αλεξιου(21/09/2015-08/07/2019)']\",\n",
       "       \"['μητσοτακη κυριακου(08/07/2019-28/07/2020)']\"], dtype=object)"
      ]
     },
     "execution_count": 43,
     "metadata": {},
     "output_type": "execute_result"
    }
   ],
   "source": [
    "df['government'].unique()"
   ]
  },
  {
   "cell_type": "code",
   "execution_count": 44,
   "id": "d162164e-cb34-4c59-87c1-25a96b428afa",
   "metadata": {},
   "outputs": [],
   "source": [
    "# Define the government coalition mapping (PM name substring, years, and parties)\n",
    "gov_coalitions = [\n",
    "    {\n",
    "        'pm': 'παπανδρεου α. γεωργιου',\n",
    "        'years': [2009, 2010, 2011],\n",
    "        'parties': ['πανελληνιο σοσιαλιστικο κινημα']\n",
    "    },\n",
    "    {\n",
    "        'pm': 'παπαδημου λουκα δ.',\n",
    "        'years': [2011, 2012],\n",
    "        'parties': ['πανελληνιο σοσιαλιστικο κινημα', 'νεα δημοκρατια', 'λαικος ορθοδοξος συναγερμος']\n",
    "    },\n",
    "    {\n",
    "        'pm': 'σαμαρα κ. αντωνιου',\n",
    "        'years': [2012, 2013, 2014, 2015],\n",
    "        'parties': ['πανελληνιο σοσιαλιστικο κινημα', 'νεα δημοκρατια']\n",
    "    },\n",
    "    {\n",
    "        'pm': 'τσιπρα π. αλεξιου',\n",
    "        'years': [2015, 2016, 2017, 2018, 2019],\n",
    "        'parties': ['συνασπισμος ριζοσπαστικης αριστερας', 'ανεξαρτητοι ελληνες εθνικη πατριωτικη δημοκρατικη συμμαχια']\n",
    "    }\n",
    "]"
   ]
  },
  {
   "cell_type": "code",
   "execution_count": 45,
   "id": "fb6647f5-f0d4-4a90-bf81-64e950b559b9",
   "metadata": {},
   "outputs": [],
   "source": [
    "# Function to check if a speaker was in government\n",
    "def is_government(row):\n",
    "    gov_name = row['government'].lower()\n",
    "    party = row['political_party'].lower()\n",
    "    year = row['year']\n",
    "\n",
    "    for coalition in gov_coalitions:\n",
    "        if (coalition['pm'] in gov_name) and (year in coalition['years']) and (party in coalition['parties']):\n",
    "            return 1\n",
    "    return 0"
   ]
  },
  {
   "cell_type": "code",
   "execution_count": 46,
   "id": "1b514e15-da4b-49ec-ad2a-abce438751fb",
   "metadata": {},
   "outputs": [],
   "source": [
    "df['is_government'] = df.apply(is_government, axis=1)"
   ]
  },
  {
   "cell_type": "code",
   "execution_count": 47,
   "id": "a0a665cb-3854-45f2-baf8-8e6fa1690ade",
   "metadata": {},
   "outputs": [],
   "source": [
    "gov_titles = [\n",
    "    'πρωθυπουργος',\n",
    "    'αντιπροεδρος της κυβερνησης',\n",
    "    'αναπληρωτης υπουργος',\n",
    "    'υπουργος',\n",
    "    'υφυπουργος'\n",
    "]\n"
   ]
  },
  {
   "cell_type": "code",
   "execution_count": 48,
   "id": "32afa846-8778-4f2e-95f0-fabc6cf94f11",
   "metadata": {},
   "outputs": [],
   "source": [
    "def extract_speaker_role(role_text):\n",
    "    role_text = str(role_text).lower()\n",
    "    for title in gov_titles:\n",
    "        if title in role_text:\n",
    "            return title\n",
    "    return None"
   ]
  },
  {
   "cell_type": "code",
   "execution_count": 49,
   "id": "9e29a4d0-266a-4318-bc93-1cd6f0b469c0",
   "metadata": {},
   "outputs": [],
   "source": [
    "df['speaker_gov_role'] = df['roles'].apply(extract_speaker_role)"
   ]
  },
  {
   "cell_type": "code",
   "execution_count": 50,
   "id": "0af9ce0c-5dee-47b0-952e-b9b2fd7cb7ac",
   "metadata": {},
   "outputs": [],
   "source": [
    "leadership_titles = [\n",
    "    'αρχηγος κομματος',\n",
    "    'αρχηγος αξιωματικης αντιπολιτευσης'\n",
    "]"
   ]
  },
  {
   "cell_type": "code",
   "execution_count": 51,
   "id": "a9835781-1976-45f8-aa87-106360044f31",
   "metadata": {},
   "outputs": [],
   "source": [
    "def extract_leadership_role(role_text):\n",
    "    role_text = str(role_text).lower()\n",
    "    for title in leadership_titles:\n",
    "        if title in role_text:\n",
    "            return title\n",
    "    return None"
   ]
  },
  {
   "cell_type": "code",
   "execution_count": 52,
   "id": "ed340f9d-7536-45f7-8b4a-7d0eeede639d",
   "metadata": {},
   "outputs": [],
   "source": [
    "df['leadership_role'] = df['roles'].apply(extract_leadership_role)"
   ]
  },
  {
   "cell_type": "code",
   "execution_count": 53,
   "id": "9f140db3-ab0c-42cd-9496-4a0b905f26f8",
   "metadata": {},
   "outputs": [],
   "source": [
    "df = df[~df['roles'].str.contains('αντιπροεδρος βουλης|προεδρος βουλης|αντιπροεδρος', case=False, na=False)]"
   ]
  },
  {
   "cell_type": "markdown",
   "id": "09e26bef-cf40-492c-9b98-eb2490913deb",
   "metadata": {},
   "source": [
    "<b style=\"color:red;\">Checkpoint-Saved</b>"
   ]
  },
  {
   "cell_type": "code",
   "execution_count": 54,
   "id": "7a7920f7-3061-43f0-ac67-cfe97d0768ec",
   "metadata": {},
   "outputs": [],
   "source": [
    "df.to_csv(\"processed01_par10-20.csv\", index=False)"
   ]
  },
  {
   "cell_type": "markdown",
   "id": "0659efcb-94e9-4f0f-b168-d78b27cc031a",
   "metadata": {},
   "source": [
    "### Preprocessing Speech Text Pipeline"
   ]
  },
  {
   "cell_type": "code",
   "execution_count": 11,
   "id": "18a00d06-7d07-4ac0-8a5c-2b4d296f36d0",
   "metadata": {},
   "outputs": [],
   "source": [
    "p_df = pd.read_csv('processed01_par10-20.csv')"
   ]
  },
  {
   "cell_type": "code",
   "execution_count": 12,
   "id": "478ade2c-0441-4c61-b4b3-13ae68705d8c",
   "metadata": {},
   "outputs": [
    {
     "name": "stdout",
     "output_type": "stream",
     "text": [
      "<class 'pandas.core.frame.DataFrame'>\n",
      "RangeIndex: 341805 entries, 0 to 341804\n",
      "Data columns (total 13 columns):\n",
      " #   Column            Non-Null Count   Dtype \n",
      "---  ------            --------------   ----- \n",
      " 0   Unnamed: 0        341805 non-null  int64 \n",
      " 1   member_name       341805 non-null  object\n",
      " 2   sitting_date      341805 non-null  object\n",
      " 3   political_party   341805 non-null  object\n",
      " 4   government        341805 non-null  object\n",
      " 5   roles             341805 non-null  object\n",
      " 6   member_gender     341805 non-null  object\n",
      " 7   speech            341805 non-null  object\n",
      " 8   year              341805 non-null  int64 \n",
      " 9   is_government     341805 non-null  int64 \n",
      " 10  speaker_gov_role  60473 non-null   object\n",
      " 11  leadership_role   10689 non-null   object\n",
      " 12  speech_clean      341668 non-null  object\n",
      "dtypes: int64(3), object(10)\n",
      "memory usage: 33.9+ MB\n"
     ]
    }
   ],
   "source": [
    "p_df.info()"
   ]
  },
  {
   "cell_type": "code",
   "execution_count": 13,
   "id": "424c1d88-3c56-455a-8126-3492a6c9fd95",
   "metadata": {},
   "outputs": [
    {
     "data": {
      "text/html": [
       "<div>\n",
       "<style scoped>\n",
       "    .dataframe tbody tr th:only-of-type {\n",
       "        vertical-align: middle;\n",
       "    }\n",
       "\n",
       "    .dataframe tbody tr th {\n",
       "        vertical-align: top;\n",
       "    }\n",
       "\n",
       "    .dataframe thead th {\n",
       "        text-align: right;\n",
       "    }\n",
       "</style>\n",
       "<table border=\"1\" class=\"dataframe\">\n",
       "  <thead>\n",
       "    <tr style=\"text-align: right;\">\n",
       "      <th></th>\n",
       "      <th>Unnamed: 0</th>\n",
       "      <th>member_name</th>\n",
       "      <th>sitting_date</th>\n",
       "      <th>political_party</th>\n",
       "      <th>government</th>\n",
       "      <th>roles</th>\n",
       "      <th>member_gender</th>\n",
       "      <th>speech</th>\n",
       "      <th>year</th>\n",
       "      <th>is_government</th>\n",
       "      <th>speaker_gov_role</th>\n",
       "      <th>leadership_role</th>\n",
       "      <th>speech_clean</th>\n",
       "    </tr>\n",
       "  </thead>\n",
       "  <tbody>\n",
       "    <tr>\n",
       "      <th>0</th>\n",
       "      <td>0</td>\n",
       "      <td>τσιαρας αλεξανδρου κωνσταντινος</td>\n",
       "      <td>2010-01-11</td>\n",
       "      <td>νεα δημοκρατια</td>\n",
       "      <td>['παπανδρεου α. γεωργιου(06/10/2009-11/11/2011)']</td>\n",
       "      <td>['βουλευτης']</td>\n",
       "      <td>male</td>\n",
       "      <td>Σας ευχαριστώ πολύ, κύριε Πρόεδρε. Κυρίες και...</td>\n",
       "      <td>2010</td>\n",
       "      <td>0</td>\n",
       "      <td>NaN</td>\n",
       "      <td>NaN</td>\n",
       "      <td>σας πολυ, . και , μιας και ειναι η πρωτη μερα ...</td>\n",
       "    </tr>\n",
       "    <tr>\n",
       "      <th>1</th>\n",
       "      <td>1</td>\n",
       "      <td>ζωης κωνσταντινου χρηστος</td>\n",
       "      <td>2010-01-11</td>\n",
       "      <td>νεα δημοκρατια</td>\n",
       "      <td>['παπανδρεου α. γεωργιου(06/10/2009-11/11/2011)']</td>\n",
       "      <td>['βουλευτης']</td>\n",
       "      <td>male</td>\n",
       "      <td>Ευχαριστώ, κύριε Πρόεδρε.Επιτρέψτε μου κι εμέ...</td>\n",
       "      <td>2010</td>\n",
       "      <td>0</td>\n",
       "      <td>NaN</td>\n",
       "      <td>NaN</td>\n",
       "      <td>, .επιτρεψτε μου κι εμενα, πριν απ’ ολα, να απ...</td>\n",
       "    </tr>\n",
       "    <tr>\n",
       "      <th>2</th>\n",
       "      <td>2</td>\n",
       "      <td>ζωης κωνσταντινου χρηστος</td>\n",
       "      <td>2010-01-11</td>\n",
       "      <td>νεα δημοκρατια</td>\n",
       "      <td>['παπανδρεου α. γεωργιου(06/10/2009-11/11/2011)']</td>\n",
       "      <td>['βουλευτης']</td>\n",
       "      <td>male</td>\n",
       "      <td>Εσείς δυστυχώς πρέπει να αναθεωρήσετε τις θέσ...</td>\n",
       "      <td>2010</td>\n",
       "      <td>0</td>\n",
       "      <td>NaN</td>\n",
       "      <td>NaN</td>\n",
       "      <td>εσεις δυστυχως πρεπει να αναθεωρησετε τις θεσε...</td>\n",
       "    </tr>\n",
       "    <tr>\n",
       "      <th>3</th>\n",
       "      <td>3</td>\n",
       "      <td>ταλιαδουρος αθανασιου σπυριδων</td>\n",
       "      <td>2010-01-11</td>\n",
       "      <td>νεα δημοκρατια</td>\n",
       "      <td>['παπανδρεου α. γεωργιου(06/10/2009-11/11/2011)']</td>\n",
       "      <td>['βουλευτης']</td>\n",
       "      <td>male</td>\n",
       "      <td>Κύριε Πρόεδρε, όπως επισημάνθηκε και από τους...</td>\n",
       "      <td>2010</td>\n",
       "      <td>0</td>\n",
       "      <td>NaN</td>\n",
       "      <td>NaN</td>\n",
       "      <td>, οπως επισημανθηκε και απο τους συναδελφους μ...</td>\n",
       "    </tr>\n",
       "    <tr>\n",
       "      <th>4</th>\n",
       "      <td>4</td>\n",
       "      <td>χαρακοπουλος παντελη μαξιμος</td>\n",
       "      <td>2010-01-11</td>\n",
       "      <td>νεα δημοκρατια</td>\n",
       "      <td>['παπανδρεου α. γεωργιου(06/10/2009-11/11/2011)']</td>\n",
       "      <td>['βουλευτης']</td>\n",
       "      <td>male</td>\n",
       "      <td>Ευχαριστώ πολύ, κύριε Πρόεδρε.Κυρίες και κύρι...</td>\n",
       "      <td>2010</td>\n",
       "      <td>0</td>\n",
       "      <td>NaN</td>\n",
       "      <td>NaN</td>\n",
       "      <td>πολυ, . και , η ερωτηση που καταθεσαμε οι βουλ...</td>\n",
       "    </tr>\n",
       "  </tbody>\n",
       "</table>\n",
       "</div>"
      ],
      "text/plain": [
       "   Unnamed: 0                      member_name sitting_date political_party  \\\n",
       "0           0  τσιαρας αλεξανδρου κωνσταντινος   2010-01-11  νεα δημοκρατια   \n",
       "1           1        ζωης κωνσταντινου χρηστος   2010-01-11  νεα δημοκρατια   \n",
       "2           2        ζωης κωνσταντινου χρηστος   2010-01-11  νεα δημοκρατια   \n",
       "3           3   ταλιαδουρος αθανασιου σπυριδων   2010-01-11  νεα δημοκρατια   \n",
       "4           4     χαρακοπουλος παντελη μαξιμος   2010-01-11  νεα δημοκρατια   \n",
       "\n",
       "                                          government          roles  \\\n",
       "0  ['παπανδρεου α. γεωργιου(06/10/2009-11/11/2011)']  ['βουλευτης']   \n",
       "1  ['παπανδρεου α. γεωργιου(06/10/2009-11/11/2011)']  ['βουλευτης']   \n",
       "2  ['παπανδρεου α. γεωργιου(06/10/2009-11/11/2011)']  ['βουλευτης']   \n",
       "3  ['παπανδρεου α. γεωργιου(06/10/2009-11/11/2011)']  ['βουλευτης']   \n",
       "4  ['παπανδρεου α. γεωργιου(06/10/2009-11/11/2011)']  ['βουλευτης']   \n",
       "\n",
       "  member_gender                                             speech  year  \\\n",
       "0          male   Σας ευχαριστώ πολύ, κύριε Πρόεδρε. Κυρίες και...  2010   \n",
       "1          male   Ευχαριστώ, κύριε Πρόεδρε.Επιτρέψτε μου κι εμέ...  2010   \n",
       "2          male   Εσείς δυστυχώς πρέπει να αναθεωρήσετε τις θέσ...  2010   \n",
       "3          male   Κύριε Πρόεδρε, όπως επισημάνθηκε και από τους...  2010   \n",
       "4          male   Ευχαριστώ πολύ, κύριε Πρόεδρε.Κυρίες και κύρι...  2010   \n",
       "\n",
       "   is_government speaker_gov_role leadership_role  \\\n",
       "0              0              NaN             NaN   \n",
       "1              0              NaN             NaN   \n",
       "2              0              NaN             NaN   \n",
       "3              0              NaN             NaN   \n",
       "4              0              NaN             NaN   \n",
       "\n",
       "                                        speech_clean  \n",
       "0  σας πολυ, . και , μιας και ειναι η πρωτη μερα ...  \n",
       "1  , .επιτρεψτε μου κι εμενα, πριν απ’ ολα, να απ...  \n",
       "2  εσεις δυστυχως πρεπει να αναθεωρησετε τις θεσε...  \n",
       "3  , οπως επισημανθηκε και απο τους συναδελφους μ...  \n",
       "4  πολυ, . και , η ερωτηση που καταθεσαμε οι βουλ...  "
      ]
     },
     "execution_count": 13,
     "metadata": {},
     "output_type": "execute_result"
    }
   ],
   "source": [
    "p_df.head()"
   ]
  },
  {
   "cell_type": "code",
   "execution_count": 11,
   "id": "a7370d85-4017-4c1c-bf64-e11bfc6e7f63",
   "metadata": {},
   "outputs": [],
   "source": [
    "#removing ntonation/diacritics (accent marks) used in written greek\n",
    "def remove_greek_diacritics(text):\n",
    "    text = str(text)\n",
    "    text = unicodedata.normalize(\"NFD\", text)\n",
    "    text = ''.join([char for char in text if not unicodedata.combining(char)])\n",
    "    return text"
   ]
  },
  {
   "cell_type": "code",
   "execution_count": 14,
   "id": "fa65d86f-4b09-45e8-afc5-38101adb11f7",
   "metadata": {},
   "outputs": [],
   "source": [
    "def basic_cleaning(text):\n",
    "    # Remove Greek diacritics\n",
    "    text = remove_greek_diacritics(text)\n",
    "    \n",
    "    # Lowercase\n",
    "    text = text.lower()\n",
    "    \n",
    "    # Remove formal expressions and honorifics\n",
    "    patterns_to_remove = [\n",
    "        r'κυριε\\s+(υπουργε|υφυπουργε|προεδρε|αντιπροεδρε)',\n",
    "        r'\\bκ\\.\\s*',\n",
    "        r'\\bευχαριστω\\b',\n",
    "        r'\\bαγαπητοι συναδελφοι\\b',\n",
    "        r'\\bκυριοι συναδελφοι\\b',\n",
    "        r'\\bκυριες\\b'\n",
    "    ]\n",
    "    for pattern in patterns_to_remove:\n",
    "        text = re.sub(pattern, '', text)\n",
    "    \n",
    "    # Remove punctuation\n",
    "    text = re.sub(r'[^\\w\\s]', '', text)\n",
    "    \n",
    "    # Remove numbers\n",
    "    text = re.sub(r'\\d+', '', text)\n",
    "    \n",
    "    # Remove extra whitespace\n",
    "    text = re.sub(r'\\s+', ' ', text).strip()\n",
    "    \n",
    "    return text"
   ]
  },
  {
   "cell_type": "code",
   "execution_count": 8,
   "id": "23ae493a-38af-4508-8e6c-482d2458e6e2",
   "metadata": {},
   "outputs": [],
   "source": [
    "#stopwords_removal-function\n",
    "def stopwords_removal(text):\n",
    "    #remove stopwords\n",
    "    words = text.split()\n",
    "    words = [word for word in words if word not in greek_stopwords]\n",
    "    return ' '.join(words)"
   ]
  },
  {
   "cell_type": "code",
   "execution_count": 17,
   "id": "dfc2cd83-0c40-4218-8556-5905dbe4575d",
   "metadata": {},
   "outputs": [
    {
     "data": {
      "application/vnd.jupyter.widget-view+json": {
       "model_id": "16091ba13bbb4d6c8b026a20e5312a63",
       "version_major": 2,
       "version_minor": 0
      },
      "text/plain": [
       "  0%|          | 0/341805 [00:00<?, ?it/s]"
      ]
     },
     "metadata": {},
     "output_type": "display_data"
    }
   ],
   "source": [
    "p_df['speech_clean'] = p_df['speech'].progress_apply(basic_cleaning)"
   ]
  },
  {
   "cell_type": "markdown",
   "id": "34108079-bc7e-4892-bf07-46036d15f278",
   "metadata": {},
   "source": [
    "<b style=\"color:red;\">Checkpoint-Saved</b>"
   ]
  },
  {
   "cell_type": "code",
   "execution_count": 18,
   "id": "95597629-4240-41d6-8813-f110e8a0f395",
   "metadata": {},
   "outputs": [],
   "source": [
    "p_df.to_csv('processed01_par10-20.csv')"
   ]
  },
  {
   "cell_type": "markdown",
   "id": "a33358e8-37a6-44e3-9982-1513835cc30e",
   "metadata": {
    "jp-MarkdownHeadingCollapsed": true
   },
   "source": [
    "## 📒01 Analysis RQ1 - 6 Sentiment Lexicon (Dritsa, 2018)\n",
    "✅ diacritics removal\\\n",
    "✅ formal phrases and honorifics\\\n",
    "✅ remove extra white space\\\n",
    "✅ tokenize speech\\\n",
    "✅ lemmatize speech\\\n",
    "❌ keep stop-words because included in Drista 2018 6 sentiments lexicon"
   ]
  },
  {
   "cell_type": "code",
   "execution_count": 2,
   "id": "e699f6bc-415d-4490-b174-4e170fb6c829",
   "metadata": {},
   "outputs": [],
   "source": [
    "from collections import defaultdict\n",
    "import jellyfish"
   ]
  },
  {
   "cell_type": "code",
   "execution_count": 3,
   "id": "460525fa-23e3-45dc-99bb-50e6a5aa39ee",
   "metadata": {},
   "outputs": [],
   "source": [
    "import spacy"
   ]
  },
  {
   "cell_type": "code",
   "execution_count": 4,
   "id": "af7304c5-2ab0-428c-990e-8d0c1cb1a8cd",
   "metadata": {},
   "outputs": [],
   "source": [
    "rq1_df = pd.read_csv('processed01_par10-20.csv',index_col=0)"
   ]
  },
  {
   "cell_type": "code",
   "execution_count": 5,
   "id": "bce325fc-3721-4cfb-b648-7e5abefbaaf3",
   "metadata": {},
   "outputs": [
    {
     "name": "stdout",
     "output_type": "stream",
     "text": [
      "<class 'pandas.core.frame.DataFrame'>\n",
      "Index: 341805 entries, 0 to 341804\n",
      "Data columns (total 13 columns):\n",
      " #   Column            Non-Null Count   Dtype \n",
      "---  ------            --------------   ----- \n",
      " 0   Unnamed: 0        341805 non-null  int64 \n",
      " 1   member_name       341805 non-null  object\n",
      " 2   sitting_date      341805 non-null  object\n",
      " 3   political_party   341805 non-null  object\n",
      " 4   government        341805 non-null  object\n",
      " 5   roles             341805 non-null  object\n",
      " 6   member_gender     341805 non-null  object\n",
      " 7   speech            341805 non-null  object\n",
      " 8   year              341805 non-null  int64 \n",
      " 9   is_government     341805 non-null  int64 \n",
      " 10  speaker_gov_role  60473 non-null   object\n",
      " 11  leadership_role   10689 non-null   object\n",
      " 12  speech_clean      338501 non-null  object\n",
      "dtypes: int64(3), object(10)\n",
      "memory usage: 36.5+ MB\n"
     ]
    }
   ],
   "source": [
    "rq1_df.info()"
   ]
  },
  {
   "cell_type": "code",
   "execution_count": 59,
   "id": "6946b4e3-6a26-4f66-b0f0-b5f9d9f8d6d6",
   "metadata": {},
   "outputs": [],
   "source": [
    "nlp = spacy.load(\"el_core_news_sm\")\n",
    "\n",
    "def tokenize_and_lemmatize(text):\n",
    "    doc = nlp(text)\n",
    "    return [token.lemma_ for token in doc if not token.is_space]"
   ]
  },
  {
   "cell_type": "code",
   "execution_count": 76,
   "id": "d92de9d9-0fbd-47a0-aab6-b5dba7e54920",
   "metadata": {},
   "outputs": [],
   "source": [
    "# Load lexicon into dictionary\n",
    "lexicon_df = pd.read_csv(\"out_lexicon_6sent.csv\")"
   ]
  },
  {
   "cell_type": "code",
   "execution_count": 77,
   "id": "855dd511-2b6c-466a-87df-8a002fe3ac01",
   "metadata": {},
   "outputs": [
    {
     "data": {
      "text/html": [
       "<div>\n",
       "<style scoped>\n",
       "    .dataframe tbody tr th:only-of-type {\n",
       "        vertical-align: middle;\n",
       "    }\n",
       "\n",
       "    .dataframe tbody tr th {\n",
       "        vertical-align: top;\n",
       "    }\n",
       "\n",
       "    .dataframe thead th {\n",
       "        text-align: right;\n",
       "    }\n",
       "</style>\n",
       "<table border=\"1\" class=\"dataframe\">\n",
       "  <thead>\n",
       "    <tr style=\"text-align: right;\">\n",
       "      <th></th>\n",
       "      <th>term</th>\n",
       "      <th>anger</th>\n",
       "      <th>disgust</th>\n",
       "      <th>fear</th>\n",
       "      <th>happiness</th>\n",
       "      <th>sadness</th>\n",
       "      <th>surprise</th>\n",
       "    </tr>\n",
       "  </thead>\n",
       "  <tbody>\n",
       "    <tr>\n",
       "      <th>0</th>\n",
       "      <td>αβαφτιστος</td>\n",
       "      <td>4.00</td>\n",
       "      <td>4.50</td>\n",
       "      <td>1.00</td>\n",
       "      <td>1.0</td>\n",
       "      <td>2.50</td>\n",
       "      <td>4.50</td>\n",
       "    </tr>\n",
       "    <tr>\n",
       "      <th>1</th>\n",
       "      <td>Χριστος</td>\n",
       "      <td>4.50</td>\n",
       "      <td>3.75</td>\n",
       "      <td>4.25</td>\n",
       "      <td>4.0</td>\n",
       "      <td>4.00</td>\n",
       "      <td>4.50</td>\n",
       "    </tr>\n",
       "    <tr>\n",
       "      <th>2</th>\n",
       "      <td>α</td>\n",
       "      <td>3.75</td>\n",
       "      <td>4.00</td>\n",
       "      <td>4.00</td>\n",
       "      <td>4.0</td>\n",
       "      <td>3.75</td>\n",
       "      <td>4.75</td>\n",
       "    </tr>\n",
       "    <tr>\n",
       "      <th>3</th>\n",
       "      <td>αβαπτιστος</td>\n",
       "      <td>4.00</td>\n",
       "      <td>4.50</td>\n",
       "      <td>1.00</td>\n",
       "      <td>1.0</td>\n",
       "      <td>2.50</td>\n",
       "      <td>4.50</td>\n",
       "    </tr>\n",
       "    <tr>\n",
       "      <th>4</th>\n",
       "      <td>αβεβαιοτητα</td>\n",
       "      <td>1.00</td>\n",
       "      <td>1.00</td>\n",
       "      <td>2.50</td>\n",
       "      <td>1.0</td>\n",
       "      <td>1.50</td>\n",
       "      <td>1.00</td>\n",
       "    </tr>\n",
       "  </tbody>\n",
       "</table>\n",
       "</div>"
      ],
      "text/plain": [
       "           term  anger  disgust  fear  happiness  sadness  surprise\n",
       "0   αβαφτιστος    4.00     4.50  1.00        1.0     2.50      4.50\n",
       "1      Χριστος    4.50     3.75  4.25        4.0     4.00      4.50\n",
       "2            α    3.75     4.00  4.00        4.0     3.75      4.75\n",
       "3   αβαπτιστος    4.00     4.50  1.00        1.0     2.50      4.50\n",
       "4  αβεβαιοτητα    1.00     1.00  2.50        1.0     1.50      1.00"
      ]
     },
     "execution_count": 77,
     "metadata": {},
     "output_type": "execute_result"
    }
   ],
   "source": [
    "lexicon_df.head()"
   ]
  },
  {
   "cell_type": "code",
   "execution_count": 78,
   "id": "c986f376-a321-45e4-a1b1-d75dd5204afc",
   "metadata": {},
   "outputs": [],
   "source": [
    "lexicon = {\n",
    "    row['term'].strip(): [\n",
    "        float(row['anger']),\n",
    "        float(row['disgust']),\n",
    "        float(row['fear']),\n",
    "        float(row['happiness']),\n",
    "        float(row['sadness']),\n",
    "        float(row['surprise'])\n",
    "    ]\n",
    "    for _, row in lexicon_df.iterrows()\n",
    "}"
   ]
  },
  {
   "cell_type": "code",
   "execution_count": 29,
   "id": "0c226ed0-832a-4a60-a730-7d1c7b86699f",
   "metadata": {},
   "outputs": [],
   "source": [
    "def sent6_vec(text, lexicon, tokenize_fn):\n",
    "    word_vecs = []\n",
    "\n",
    "    for word in tokenize_fn(text):\n",
    "        if word in lexicon:\n",
    "            word_vecs.append(lexicon[word])\n",
    "\n",
    "    if not word_vecs:\n",
    "        return [0] * 6  \n",
    "    \n",
    "    word_vecs = np.array(word_vecs)\n",
    "\n",
    "    rms = np.sqrt(np.mean(np.square(word_vecs), axis=0))\n",
    "    return [round(v, 3) for v in rms]"
   ]
  },
  {
   "cell_type": "markdown",
   "id": "eb732ead-deb4-49e4-adbe-bf8e06e79033",
   "metadata": {},
   "source": [
    "<b style=\"color:blue;\">Test to Sample - Started</b>"
   ]
  },
  {
   "cell_type": "code",
   "execution_count": 80,
   "id": "79bf6c98-55f1-4f3c-902f-46bbf13cfc6f",
   "metadata": {},
   "outputs": [],
   "source": [
    "sample_df = rq1_df.sample(n=1000, random_state=32).copy()"
   ]
  },
  {
   "cell_type": "code",
   "execution_count": 79,
   "id": "e8e30d98-8060-4e28-a901-e6ad62676511",
   "metadata": {},
   "outputs": [
    {
     "name": "stdout",
     "output_type": "stream",
     "text": [
      "True\n",
      "[1.0, 1.0, 1.0, 4.75, 1.0, 2.75]\n"
     ]
    }
   ],
   "source": [
    "print(\"αγαπημενη\" in lexicon)\n",
    "print(lexicon.get(\"αγαπημενη\"))"
   ]
  },
  {
   "cell_type": "code",
   "execution_count": 44,
   "id": "9a7b083a-91a8-4cd0-9224-8ec900ff6202",
   "metadata": {},
   "outputs": [],
   "source": [
    "sample_df['speech_clean'] = sample_df['speech_clean'].fillna('').astype(str)"
   ]
  },
  {
   "cell_type": "code",
   "execution_count": 82,
   "id": "5b949f14-8491-491c-8a79-5f8182114928",
   "metadata": {},
   "outputs": [
    {
     "data": {
      "application/vnd.jupyter.widget-view+json": {
       "model_id": "a101edd440434327b98ed90c893f61cb",
       "version_major": 2,
       "version_minor": 0
      },
      "text/plain": [
       "  0%|          | 0/1000 [00:00<?, ?it/s]"
      ]
     },
     "metadata": {},
     "output_type": "display_data"
    }
   ],
   "source": [
    "sample_df['sent6_vec'] = sample_df['speech_clean'].progress_apply(\n",
    "    lambda text: sent6_vec(text, lexicon, tokenize_and_lemmatize)\n",
    ")"
   ]
  },
  {
   "cell_type": "code",
   "execution_count": 83,
   "id": "8cad0492-ded7-473a-a3e5-58978a3ff882",
   "metadata": {},
   "outputs": [
    {
     "data": {
      "text/html": [
       "<div>\n",
       "<style scoped>\n",
       "    .dataframe tbody tr th:only-of-type {\n",
       "        vertical-align: middle;\n",
       "    }\n",
       "\n",
       "    .dataframe tbody tr th {\n",
       "        vertical-align: top;\n",
       "    }\n",
       "\n",
       "    .dataframe thead th {\n",
       "        text-align: right;\n",
       "    }\n",
       "</style>\n",
       "<table border=\"1\" class=\"dataframe\">\n",
       "  <thead>\n",
       "    <tr style=\"text-align: right;\">\n",
       "      <th></th>\n",
       "      <th>member_name</th>\n",
       "      <th>political_party</th>\n",
       "      <th>year</th>\n",
       "      <th>roles</th>\n",
       "      <th>is_government</th>\n",
       "      <th>sent6_vec</th>\n",
       "    </tr>\n",
       "  </thead>\n",
       "  <tbody>\n",
       "    <tr>\n",
       "      <th>318719</th>\n",
       "      <td>αναγνωστοπουλου πετρου αθανασια (σια)</td>\n",
       "      <td>συνασπισμος ριζοσπαστικης αριστερας</td>\n",
       "      <td>2019</td>\n",
       "      <td>['αναπληρωτης υπουργος εξωτερικων(15/02/2019-0...</td>\n",
       "      <td>0</td>\n",
       "      <td>[3.142, 2.915, 2.016, 1.581, 1.0, 3.142]</td>\n",
       "    </tr>\n",
       "    <tr>\n",
       "      <th>126402</th>\n",
       "      <td>κωνσταντοπουλου ν. ζωη</td>\n",
       "      <td>συνασπισμος ριζοσπαστικης αριστερας</td>\n",
       "      <td>2014</td>\n",
       "      <td>['βουλευτης']</td>\n",
       "      <td>0</td>\n",
       "      <td>[0, 0, 0, 0, 0, 0]</td>\n",
       "    </tr>\n",
       "    <tr>\n",
       "      <th>321719</th>\n",
       "      <td>μελας παναγιωτη ιωαννης</td>\n",
       "      <td>νεα δημοκρατια</td>\n",
       "      <td>2019</td>\n",
       "      <td>['βουλευτης']</td>\n",
       "      <td>0</td>\n",
       "      <td>[0, 0, 0, 0, 0, 0]</td>\n",
       "    </tr>\n",
       "    <tr>\n",
       "      <th>257082</th>\n",
       "      <td>βαρδακης δημητριου σωκρατης</td>\n",
       "      <td>συνασπισμος ριζοσπαστικης αριστερας</td>\n",
       "      <td>2017</td>\n",
       "      <td>['βουλευτης']</td>\n",
       "      <td>1</td>\n",
       "      <td>[2.63, 2.517, 1.744, 2.457, 1.0, 3.131]</td>\n",
       "    </tr>\n",
       "    <tr>\n",
       "      <th>65452</th>\n",
       "      <td>χρυσοχοιδης βασιλειου μιχαηλ</td>\n",
       "      <td>πανελληνιο σοσιαλιστικο κινημα</td>\n",
       "      <td>2012</td>\n",
       "      <td>['υπουργος αναπτυξης ανταγωνιστικοτητας και να...</td>\n",
       "      <td>1</td>\n",
       "      <td>[3.651, 3.391, 2.363, 1.969, 1.225, 3.582]</td>\n",
       "    </tr>\n",
       "  </tbody>\n",
       "</table>\n",
       "</div>"
      ],
      "text/plain": [
       "                                  member_name  \\\n",
       "318719  αναγνωστοπουλου πετρου αθανασια (σια)   \n",
       "126402                 κωνσταντοπουλου ν. ζωη   \n",
       "321719                μελας παναγιωτη ιωαννης   \n",
       "257082            βαρδακης δημητριου σωκρατης   \n",
       "65452            χρυσοχοιδης βασιλειου μιχαηλ   \n",
       "\n",
       "                            political_party  year  \\\n",
       "318719  συνασπισμος ριζοσπαστικης αριστερας  2019   \n",
       "126402  συνασπισμος ριζοσπαστικης αριστερας  2014   \n",
       "321719                       νεα δημοκρατια  2019   \n",
       "257082  συνασπισμος ριζοσπαστικης αριστερας  2017   \n",
       "65452        πανελληνιο σοσιαλιστικο κινημα  2012   \n",
       "\n",
       "                                                    roles  is_government  \\\n",
       "318719  ['αναπληρωτης υπουργος εξωτερικων(15/02/2019-0...              0   \n",
       "126402                                      ['βουλευτης']              0   \n",
       "321719                                      ['βουλευτης']              0   \n",
       "257082                                      ['βουλευτης']              1   \n",
       "65452   ['υπουργος αναπτυξης ανταγωνιστικοτητας και να...              1   \n",
       "\n",
       "                                         sent6_vec  \n",
       "318719    [3.142, 2.915, 2.016, 1.581, 1.0, 3.142]  \n",
       "126402                          [0, 0, 0, 0, 0, 0]  \n",
       "321719                          [0, 0, 0, 0, 0, 0]  \n",
       "257082     [2.63, 2.517, 1.744, 2.457, 1.0, 3.131]  \n",
       "65452   [3.651, 3.391, 2.363, 1.969, 1.225, 3.582]  "
      ]
     },
     "execution_count": 83,
     "metadata": {},
     "output_type": "execute_result"
    }
   ],
   "source": [
    "sample_df[['member_name', 'political_party', 'year', 'roles', 'is_government', 'sent6_vec']].head()\n"
   ]
  },
  {
   "cell_type": "code",
   "execution_count": 84,
   "id": "aff5927c-0cfe-43d2-8c18-81c2c20d6b70",
   "metadata": {},
   "outputs": [],
   "source": [
    "sentiment_cols = ['anger', 'disgust', 'fear', 'happiness', 'sadness', 'surprise']\n",
    "sentiment_df = pd.DataFrame(sample_df['sent6_vec'].tolist(), columns=sentiment_cols)"
   ]
  },
  {
   "cell_type": "code",
   "execution_count": 85,
   "id": "f8c6bfd1-2e9f-4038-897d-a10ee208f42b",
   "metadata": {},
   "outputs": [],
   "source": [
    "sample_df_sent = pd.concat([sample_df, sentiment_df], axis=1)"
   ]
  },
  {
   "cell_type": "code",
   "execution_count": 86,
   "id": "1bd87741-14ca-4449-8a58-ab4773135ff0",
   "metadata": {},
   "outputs": [
    {
     "data": {
      "text/html": [
       "<div>\n",
       "<style scoped>\n",
       "    .dataframe tbody tr th:only-of-type {\n",
       "        vertical-align: middle;\n",
       "    }\n",
       "\n",
       "    .dataframe tbody tr th {\n",
       "        vertical-align: top;\n",
       "    }\n",
       "\n",
       "    .dataframe thead th {\n",
       "        text-align: right;\n",
       "    }\n",
       "</style>\n",
       "<table border=\"1\" class=\"dataframe\">\n",
       "  <thead>\n",
       "    <tr style=\"text-align: right;\">\n",
       "      <th></th>\n",
       "      <th>anger</th>\n",
       "      <th>disgust</th>\n",
       "      <th>fear</th>\n",
       "      <th>happiness</th>\n",
       "      <th>sadness</th>\n",
       "      <th>surprise</th>\n",
       "    </tr>\n",
       "  </thead>\n",
       "  <tbody>\n",
       "    <tr>\n",
       "      <th>count</th>\n",
       "      <td>1000.000000</td>\n",
       "      <td>1000.000000</td>\n",
       "      <td>1000.000000</td>\n",
       "      <td>1000.000000</td>\n",
       "      <td>1000.000000</td>\n",
       "      <td>1000.000000</td>\n",
       "    </tr>\n",
       "    <tr>\n",
       "      <th>mean</th>\n",
       "      <td>1.769585</td>\n",
       "      <td>1.588783</td>\n",
       "      <td>1.115906</td>\n",
       "      <td>1.067624</td>\n",
       "      <td>0.714237</td>\n",
       "      <td>1.915119</td>\n",
       "    </tr>\n",
       "    <tr>\n",
       "      <th>std</th>\n",
       "      <td>1.644246</td>\n",
       "      <td>1.505850</td>\n",
       "      <td>1.040254</td>\n",
       "      <td>0.995051</td>\n",
       "      <td>0.668034</td>\n",
       "      <td>1.727340</td>\n",
       "    </tr>\n",
       "    <tr>\n",
       "      <th>min</th>\n",
       "      <td>0.000000</td>\n",
       "      <td>0.000000</td>\n",
       "      <td>0.000000</td>\n",
       "      <td>0.000000</td>\n",
       "      <td>0.000000</td>\n",
       "      <td>0.000000</td>\n",
       "    </tr>\n",
       "    <tr>\n",
       "      <th>25%</th>\n",
       "      <td>0.000000</td>\n",
       "      <td>0.000000</td>\n",
       "      <td>0.000000</td>\n",
       "      <td>0.000000</td>\n",
       "      <td>0.000000</td>\n",
       "      <td>0.000000</td>\n",
       "    </tr>\n",
       "    <tr>\n",
       "      <th>50%</th>\n",
       "      <td>2.000000</td>\n",
       "      <td>1.500000</td>\n",
       "      <td>1.000000</td>\n",
       "      <td>1.000000</td>\n",
       "      <td>1.000000</td>\n",
       "      <td>2.500000</td>\n",
       "    </tr>\n",
       "    <tr>\n",
       "      <th>75%</th>\n",
       "      <td>3.261000</td>\n",
       "      <td>3.026000</td>\n",
       "      <td>2.109000</td>\n",
       "      <td>1.969000</td>\n",
       "      <td>1.145000</td>\n",
       "      <td>3.500000</td>\n",
       "    </tr>\n",
       "    <tr>\n",
       "      <th>max</th>\n",
       "      <td>4.330000</td>\n",
       "      <td>4.000000</td>\n",
       "      <td>4.250000</td>\n",
       "      <td>4.500000</td>\n",
       "      <td>3.500000</td>\n",
       "      <td>4.330000</td>\n",
       "    </tr>\n",
       "  </tbody>\n",
       "</table>\n",
       "</div>"
      ],
      "text/plain": [
       "             anger      disgust         fear    happiness      sadness  \\\n",
       "count  1000.000000  1000.000000  1000.000000  1000.000000  1000.000000   \n",
       "mean      1.769585     1.588783     1.115906     1.067624     0.714237   \n",
       "std       1.644246     1.505850     1.040254     0.995051     0.668034   \n",
       "min       0.000000     0.000000     0.000000     0.000000     0.000000   \n",
       "25%       0.000000     0.000000     0.000000     0.000000     0.000000   \n",
       "50%       2.000000     1.500000     1.000000     1.000000     1.000000   \n",
       "75%       3.261000     3.026000     2.109000     1.969000     1.145000   \n",
       "max       4.330000     4.000000     4.250000     4.500000     3.500000   \n",
       "\n",
       "          surprise  \n",
       "count  1000.000000  \n",
       "mean      1.915119  \n",
       "std       1.727340  \n",
       "min       0.000000  \n",
       "25%       0.000000  \n",
       "50%       2.500000  \n",
       "75%       3.500000  \n",
       "max       4.330000  "
      ]
     },
     "execution_count": 86,
     "metadata": {},
     "output_type": "execute_result"
    }
   ],
   "source": [
    "sample_df_sent[sentiment_cols].describe()"
   ]
  },
  {
   "cell_type": "markdown",
   "id": "73dbb19a-9223-4820-90b8-676b38ca5174",
   "metadata": {},
   "source": [
    "<b style=\"color:blue;\">Test to Sample - END</b>"
   ]
  },
  {
   "cell_type": "code",
   "execution_count": 90,
   "id": "d196cc6d-f4bb-4dd4-afb8-57da03dc0f2c",
   "metadata": {},
   "outputs": [
    {
     "data": {
      "application/vnd.jupyter.widget-view+json": {
       "model_id": "4801d9492ed049c8989ae61a4bffa82f",
       "version_major": 2,
       "version_minor": 0
      },
      "text/plain": [
       "  0%|          | 0/341805 [00:00<?, ?it/s]"
      ]
     },
     "metadata": {},
     "output_type": "display_data"
    }
   ],
   "source": [
    "rq1_df['sent6_vec'] = rq1_df['speech_clean'].progress_apply(\n",
    "    lambda text: sent6_vec(text, lexicon, tokenize_and_lemmatize)\n",
    ")"
   ]
  },
  {
   "cell_type": "code",
   "execution_count": 91,
   "id": "52da6789-d5b9-403a-9f06-90fb61cf5460",
   "metadata": {},
   "outputs": [],
   "source": [
    "sentiment_cols = ['anger', 'disgust', 'fear', 'happiness', 'sadness', 'surprise']\n",
    "sentiment_redf = pd.DataFrame(rq1_df['sent6_vec'].tolist(), columns=sentiment_cols)"
   ]
  },
  {
   "cell_type": "code",
   "execution_count": 92,
   "id": "0215d899-e0f9-44c5-b858-a499abc0fd12",
   "metadata": {},
   "outputs": [],
   "source": [
    "meta_cols = ['member_name', 'political_party', 'year', 'is_government', 'roles']\n",
    "meta_df = rq1_df[meta_cols].reset_index(drop=True)"
   ]
  },
  {
   "cell_type": "code",
   "execution_count": 93,
   "id": "d73b2bd8-90fb-4c28-8c0e-060291fce77c",
   "metadata": {},
   "outputs": [],
   "source": [
    "rq1_results_df = pd.concat([meta_df, sentiment_redf], axis=1)"
   ]
  },
  {
   "cell_type": "markdown",
   "id": "f9125222-9fc5-4556-895a-9b0085053840",
   "metadata": {},
   "source": [
    "<b style=\"color:red;\">Checkpoint-Saved</b>"
   ]
  },
  {
   "cell_type": "code",
   "execution_count": 94,
   "id": "323373b2-7278-42bf-a09d-5f6b726f3fe1",
   "metadata": {},
   "outputs": [],
   "source": [
    "rq1_results_df.to_csv('RQ1_results_df.csv')"
   ]
  },
  {
   "cell_type": "code",
   "execution_count": 99,
   "id": "bd607aa1-8d4b-4232-a899-8712964fdc33",
   "metadata": {},
   "outputs": [
    {
     "data": {
      "text/html": [
       "<div>\n",
       "<style scoped>\n",
       "    .dataframe tbody tr th:only-of-type {\n",
       "        vertical-align: middle;\n",
       "    }\n",
       "\n",
       "    .dataframe tbody tr th {\n",
       "        vertical-align: top;\n",
       "    }\n",
       "\n",
       "    .dataframe thead th {\n",
       "        text-align: right;\n",
       "    }\n",
       "</style>\n",
       "<table border=\"1\" class=\"dataframe\">\n",
       "  <thead>\n",
       "    <tr style=\"text-align: right;\">\n",
       "      <th></th>\n",
       "      <th>member_name</th>\n",
       "      <th>political_party</th>\n",
       "      <th>year</th>\n",
       "      <th>is_government</th>\n",
       "      <th>roles</th>\n",
       "      <th>anger</th>\n",
       "      <th>disgust</th>\n",
       "      <th>fear</th>\n",
       "      <th>happiness</th>\n",
       "      <th>sadness</th>\n",
       "      <th>surprise</th>\n",
       "    </tr>\n",
       "  </thead>\n",
       "  <tbody>\n",
       "    <tr>\n",
       "      <th>0</th>\n",
       "      <td>τσιαρας αλεξανδρου κωνσταντινος</td>\n",
       "      <td>νεα δημοκρατια</td>\n",
       "      <td>2010</td>\n",
       "      <td>0</td>\n",
       "      <td>['βουλευτης']</td>\n",
       "      <td>3.394</td>\n",
       "      <td>3.118</td>\n",
       "      <td>2.192</td>\n",
       "      <td>2.021</td>\n",
       "      <td>1.084</td>\n",
       "      <td>3.512</td>\n",
       "    </tr>\n",
       "    <tr>\n",
       "      <th>1</th>\n",
       "      <td>ζωης κωνσταντινου χρηστος</td>\n",
       "      <td>νεα δημοκρατια</td>\n",
       "      <td>2010</td>\n",
       "      <td>0</td>\n",
       "      <td>['βουλευτης']</td>\n",
       "      <td>3.275</td>\n",
       "      <td>3.100</td>\n",
       "      <td>2.085</td>\n",
       "      <td>1.740</td>\n",
       "      <td>1.067</td>\n",
       "      <td>3.413</td>\n",
       "    </tr>\n",
       "    <tr>\n",
       "      <th>2</th>\n",
       "      <td>ζωης κωνσταντινου χρηστος</td>\n",
       "      <td>νεα δημοκρατια</td>\n",
       "      <td>2010</td>\n",
       "      <td>0</td>\n",
       "      <td>['βουλευτης']</td>\n",
       "      <td>3.913</td>\n",
       "      <td>3.522</td>\n",
       "      <td>2.366</td>\n",
       "      <td>1.803</td>\n",
       "      <td>1.173</td>\n",
       "      <td>3.965</td>\n",
       "    </tr>\n",
       "    <tr>\n",
       "      <th>3</th>\n",
       "      <td>ταλιαδουρος αθανασιου σπυριδων</td>\n",
       "      <td>νεα δημοκρατια</td>\n",
       "      <td>2010</td>\n",
       "      <td>0</td>\n",
       "      <td>['βουλευτης']</td>\n",
       "      <td>3.386</td>\n",
       "      <td>3.188</td>\n",
       "      <td>2.176</td>\n",
       "      <td>2.101</td>\n",
       "      <td>1.101</td>\n",
       "      <td>3.674</td>\n",
       "    </tr>\n",
       "    <tr>\n",
       "      <th>4</th>\n",
       "      <td>χαρακοπουλος παντελη μαξιμος</td>\n",
       "      <td>νεα δημοκρατια</td>\n",
       "      <td>2010</td>\n",
       "      <td>0</td>\n",
       "      <td>['βουλευτης']</td>\n",
       "      <td>2.779</td>\n",
       "      <td>2.680</td>\n",
       "      <td>2.080</td>\n",
       "      <td>1.857</td>\n",
       "      <td>1.280</td>\n",
       "      <td>3.037</td>\n",
       "    </tr>\n",
       "  </tbody>\n",
       "</table>\n",
       "</div>"
      ],
      "text/plain": [
       "                       member_name political_party  year  is_government  \\\n",
       "0  τσιαρας αλεξανδρου κωνσταντινος  νεα δημοκρατια  2010              0   \n",
       "1        ζωης κωνσταντινου χρηστος  νεα δημοκρατια  2010              0   \n",
       "2        ζωης κωνσταντινου χρηστος  νεα δημοκρατια  2010              0   \n",
       "3   ταλιαδουρος αθανασιου σπυριδων  νεα δημοκρατια  2010              0   \n",
       "4     χαρακοπουλος παντελη μαξιμος  νεα δημοκρατια  2010              0   \n",
       "\n",
       "           roles  anger  disgust   fear  happiness  sadness  surprise  \n",
       "0  ['βουλευτης']  3.394    3.118  2.192      2.021    1.084     3.512  \n",
       "1  ['βουλευτης']  3.275    3.100  2.085      1.740    1.067     3.413  \n",
       "2  ['βουλευτης']  3.913    3.522  2.366      1.803    1.173     3.965  \n",
       "3  ['βουλευτης']  3.386    3.188  2.176      2.101    1.101     3.674  \n",
       "4  ['βουλευτης']  2.779    2.680  2.080      1.857    1.280     3.037  "
      ]
     },
     "execution_count": 99,
     "metadata": {},
     "output_type": "execute_result"
    }
   ],
   "source": [
    "rq1_results_df.head()"
   ]
  },
  {
   "cell_type": "markdown",
   "id": "c3d438e7-44fb-4934-9e29-9e6610d9f0cf",
   "metadata": {},
   "source": [
    "## 📒02 Analysis RQ2 - SMOG Index Greek Dritsa, (2018)\n",
    "✅ diacritics removal\\\n",
    "✅ formal phrases and honorifics\\\n",
    "✅ remove extra white space"
   ]
  },
  {
   "cell_type": "code",
   "execution_count": 6,
   "id": "867a5461-757d-4382-a16c-bb6f3e227336",
   "metadata": {},
   "outputs": [],
   "source": [
    "rq2_df = pd.read_csv('processed01_par10-20.csv',index_col=0)"
   ]
  },
  {
   "cell_type": "code",
   "execution_count": 7,
   "id": "3e64bd63-84e6-4d48-91d4-59dbc923fa3e",
   "metadata": {},
   "outputs": [
    {
     "name": "stdout",
     "output_type": "stream",
     "text": [
      "<class 'pandas.core.frame.DataFrame'>\n",
      "Index: 341805 entries, 0 to 341804\n",
      "Data columns (total 13 columns):\n",
      " #   Column            Non-Null Count   Dtype \n",
      "---  ------            --------------   ----- \n",
      " 0   Unnamed: 0        341805 non-null  int64 \n",
      " 1   member_name       341805 non-null  object\n",
      " 2   sitting_date      341805 non-null  object\n",
      " 3   political_party   341805 non-null  object\n",
      " 4   government        341805 non-null  object\n",
      " 5   roles             341805 non-null  object\n",
      " 6   member_gender     341805 non-null  object\n",
      " 7   speech            341805 non-null  object\n",
      " 8   year              341805 non-null  int64 \n",
      " 9   is_government     341805 non-null  int64 \n",
      " 10  speaker_gov_role  60473 non-null   object\n",
      " 11  leadership_role   10689 non-null   object\n",
      " 12  speech_clean      338501 non-null  object\n",
      "dtypes: int64(3), object(10)\n",
      "memory usage: 36.5+ MB\n"
     ]
    }
   ],
   "source": [
    "rq2_df.info()"
   ]
  },
  {
   "cell_type": "code",
   "execution_count": 9,
   "id": "ea737747-53a3-461e-be1e-7f55180cfba0",
   "metadata": {},
   "outputs": [
    {
     "data": {
      "text/plain": [
       "'με συγχωρειτε πολυ η ελληνικη κυβερνηση ειναι αυτη η οποια το απεσυρε απο τα προγραμματα χρηματοδοτησεως της ευρωπαικης ενωσης για ενα και μονο λογο για να μην αλλαξει ο ρολος και ο στοχος του εργου γιατι ακριβως αν αλλαζε ο στοχος του εργου τοτε θα επρεπε να καλυφθει απο τις οδηγιες οι οποιες ηταν μεταγενεστερες'"
      ]
     },
     "execution_count": 9,
     "metadata": {},
     "output_type": "execute_result"
    }
   ],
   "source": [
    "rq2_df['speech_clean'][100]"
   ]
  },
  {
   "cell_type": "code",
   "execution_count": 10,
   "id": "ac55a53c-b6cf-464a-874b-ae8aaa67a7e6",
   "metadata": {},
   "outputs": [],
   "source": [
    "rq2_df = rq2_df.drop(columns=['Unnamed: 0', 'speech_clean'])"
   ]
  },
  {
   "cell_type": "code",
   "execution_count": 10,
   "id": "acb356c3-ad9d-479b-b4aa-d574697d51c8",
   "metadata": {},
   "outputs": [],
   "source": [
    "def prepare_text_for_smog(text):\n",
    "    if not isinstance(text, str):\n",
    "        return None\n",
    "\n",
    "    #Remove Greek diacritics\n",
    "    text = remove_greek_diacritics(text)\n",
    "\n",
    "    #Normalize to lowercase\n",
    "    text = text.lower()\n",
    "\n",
    "    #Keep sentence punctuation: periods (.), question marks (?), exclamation (!)\n",
    "    #Replace them all with periods for SMOG sentence splitting\n",
    "    text = text.replace('!', '.').replace('?', '.')\n",
    "\n",
    "    #Remove formal/honorific expressions\n",
    "    patterns_to_remove = [\n",
    "        r'κυριε\\s+(υπουργε|υφυπουργε|προεδρε|αντιπροεδρε)',\n",
    "        r'\\bκ\\.\\s*', \n",
    "        r'\\bευχαριστω\\b',\n",
    "        r'\\bαγαπητοι συναδελφοι\\b',\n",
    "        r'\\bκυριοι συναδελφοι\\b',\n",
    "        r'\\bκυριες\\b'\n",
    "    ]\n",
    "    for pattern in patterns_to_remove:\n",
    "        text = re.sub(pattern, '', text)\n",
    "\n",
    "    #Convert digits to text using invoice library (e.g., \"2023\" → \"δυο χιλιαδες είκοσι τρία\")\n",
    "    def normalize_numbers(match):\n",
    "        try:\n",
    "            return invoice.num_to_text(int(match.group()))\n",
    "        except:\n",
    "            return match.group()\n",
    "\n",
    "    text = re.sub(r'\\d+', normalize_numbers, text)\n",
    "\n",
    "    #Remove unwanted symbols (keep Greek letters, spaces, periods)\n",
    "    text = re.sub(r'[^α-ωΑ-Ωά-ώΆ-Ώ0-9. ]+', ' ', text)\n",
    "\n",
    "    #Collapse multiple spaces\n",
    "    text = re.sub(r'\\s+', ' ', text).strip()\n",
    "\n",
    "    return text"
   ]
  },
  {
   "cell_type": "code",
   "execution_count": 13,
   "id": "51511474-ab29-4fc1-a0ce-867a671e0f29",
   "metadata": {},
   "outputs": [
    {
     "data": {
      "application/vnd.jupyter.widget-view+json": {
       "model_id": "cd9239279254479fb236f7df8cb7973e",
       "version_major": 2,
       "version_minor": 0
      },
      "text/plain": [
       "  0%|          | 0/341805 [00:00<?, ?it/s]"
      ]
     },
     "metadata": {},
     "output_type": "display_data"
    }
   ],
   "source": [
    "rq2_df['speech_for_smog'] = rq2_df['speech'].progress_apply(prepare_text_for_smog)"
   ]
  },
  {
   "cell_type": "markdown",
   "id": "90fd8e5b-ef15-47f2-a589-9b0c716c85be",
   "metadata": {},
   "source": [
    "<b style=\"color:red;\">Checkpoint-Saved</b>"
   ]
  },
  {
   "cell_type": "code",
   "execution_count": 15,
   "id": "595e7036-5504-4fc2-a83c-096f11cca9c6",
   "metadata": {},
   "outputs": [],
   "source": [
    "rq2_df.to_csv('processed0rq2_par10-20.csv.csv', index=False)"
   ]
  },
  {
   "cell_type": "code",
   "execution_count": 2,
   "id": "e0505fb9-ad90-48af-a7d0-d1adbc061231",
   "metadata": {},
   "outputs": [],
   "source": [
    "rq2_df = pd.read_csv('processed0rq2_par10-20.csv.csv',index_col=0)"
   ]
  },
  {
   "cell_type": "code",
   "execution_count": 4,
   "id": "46843679-ea0c-42a4-ad1e-f3a24bb59563",
   "metadata": {},
   "outputs": [
    {
     "name": "stdout",
     "output_type": "stream",
     "text": [
      "Requirement already satisfied: greek-accentuation in /Users/stavast/anaconda3/envs/proceedings-asds2/lib/python3.10/site-packages (1.2.0)\n",
      "Requirement already satisfied: invoice in /Users/stavast/anaconda3/envs/proceedings-asds2/lib/python3.10/site-packages (1.0.1)\n",
      "Requirement already satisfied: nltk in /Users/stavast/anaconda3/envs/proceedings-asds2/lib/python3.10/site-packages (3.9.1)\n",
      "Requirement already satisfied: aiohttp in /Users/stavast/anaconda3/envs/proceedings-asds2/lib/python3.10/site-packages (from invoice) (3.12.15)\n",
      "Requirement already satisfied: beautifulsoup4 in /Users/stavast/anaconda3/envs/proceedings-asds2/lib/python3.10/site-packages (from invoice) (4.13.4)\n",
      "Requirement already satisfied: click in /Users/stavast/anaconda3/envs/proceedings-asds2/lib/python3.10/site-packages (from nltk) (8.2.1)\n",
      "Requirement already satisfied: joblib in /Users/stavast/anaconda3/envs/proceedings-asds2/lib/python3.10/site-packages (from nltk) (1.5.1)\n",
      "Requirement already satisfied: regex>=2021.8.3 in /Users/stavast/anaconda3/envs/proceedings-asds2/lib/python3.10/site-packages (from nltk) (2025.7.34)\n",
      "Requirement already satisfied: tqdm in /Users/stavast/anaconda3/envs/proceedings-asds2/lib/python3.10/site-packages (from nltk) (4.67.1)\n",
      "Requirement already satisfied: aiohappyeyeballs>=2.5.0 in /Users/stavast/anaconda3/envs/proceedings-asds2/lib/python3.10/site-packages (from aiohttp->invoice) (2.6.1)\n",
      "Requirement already satisfied: aiosignal>=1.4.0 in /Users/stavast/anaconda3/envs/proceedings-asds2/lib/python3.10/site-packages (from aiohttp->invoice) (1.4.0)\n",
      "Requirement already satisfied: async-timeout<6.0,>=4.0 in /Users/stavast/anaconda3/envs/proceedings-asds2/lib/python3.10/site-packages (from aiohttp->invoice) (5.0.1)\n",
      "Requirement already satisfied: attrs>=17.3.0 in /Users/stavast/anaconda3/envs/proceedings-asds2/lib/python3.10/site-packages (from aiohttp->invoice) (25.3.0)\n",
      "Requirement already satisfied: frozenlist>=1.1.1 in /Users/stavast/anaconda3/envs/proceedings-asds2/lib/python3.10/site-packages (from aiohttp->invoice) (1.7.0)\n",
      "Requirement already satisfied: multidict<7.0,>=4.5 in /Users/stavast/anaconda3/envs/proceedings-asds2/lib/python3.10/site-packages (from aiohttp->invoice) (6.6.4)\n",
      "Requirement already satisfied: propcache>=0.2.0 in /Users/stavast/anaconda3/envs/proceedings-asds2/lib/python3.10/site-packages (from aiohttp->invoice) (0.3.2)\n",
      "Requirement already satisfied: yarl<2.0,>=1.17.0 in /Users/stavast/anaconda3/envs/proceedings-asds2/lib/python3.10/site-packages (from aiohttp->invoice) (1.20.1)\n",
      "Requirement already satisfied: typing-extensions>=4.1.0 in /Users/stavast/anaconda3/envs/proceedings-asds2/lib/python3.10/site-packages (from multidict<7.0,>=4.5->aiohttp->invoice) (4.14.1)\n",
      "Requirement already satisfied: idna>=2.0 in /Users/stavast/anaconda3/envs/proceedings-asds2/lib/python3.10/site-packages (from yarl<2.0,>=1.17.0->aiohttp->invoice) (3.10)\n",
      "Requirement already satisfied: soupsieve>1.2 in /Users/stavast/anaconda3/envs/proceedings-asds2/lib/python3.10/site-packages (from beautifulsoup4->invoice) (2.7)\n"
     ]
    }
   ],
   "source": [
    "!pip install greek-accentuation invoice nltk"
   ]
  },
  {
   "cell_type": "code",
   "execution_count": 5,
   "id": "9e9bab58-ffa4-443f-81b1-6149d1f5f666",
   "metadata": {},
   "outputs": [],
   "source": [
    "import math\n",
    "import spacy\n",
    "from greek_accentuation.syllabify import syllabify\n",
    "import invoice"
   ]
  },
  {
   "cell_type": "code",
   "execution_count": 6,
   "id": "2e08c1ee-2ea6-4791-af24-9f83334b4e85",
   "metadata": {},
   "outputs": [],
   "source": [
    "nlp = spacy.load(\"el_core_news_sm\")"
   ]
  },
  {
   "cell_type": "code",
   "execution_count": 7,
   "id": "be6e41b5-793e-462b-b2be-fcbb741e2be6",
   "metadata": {},
   "outputs": [],
   "source": [
    "def compute_smog(text):\n",
    "    if not isinstance(text, str):\n",
    "        return None\n",
    "\n",
    "    #Greek sentence tokenizer\n",
    "    sentences = [sent.text for sent in nlp(text).sents]\n",
    "\n",
    "    #SMOG needs at least 60 sentences to sample 30 | Dritsa 2018 followed\n",
    "    if len(sentences) < 60:\n",
    "        return None\n",
    "\n",
    "    #get 20 middle sentences from a chunk\n",
    "    def middle_20(sent_list):\n",
    "        center = len(sent_list) // 2\n",
    "        return sent_list[center - 10 : center + 10]\n",
    "\n",
    "    #sample 10 from each third of the speech\n",
    "    part1 = middle_20(sentences[:len(sentences)//3])\n",
    "    part2 = middle_20(sentences[len(sentences)//3:2*len(sentences)//3])\n",
    "    part3 = middle_20(sentences[2*len(sentences)//3:])\n",
    "    sample_sentences = part1 + part2 + part3\n",
    "\n",
    "    polysyllables = 0\n",
    "\n",
    "    for sentence in sample_sentences:\n",
    "        words = sentence.split()  # token-level accuracy is not critical for SMOG\n",
    "        for word in words:\n",
    "            if word.isalpha():\n",
    "                try:\n",
    "                    if len(syllabify(word)) > 2:\n",
    "                        polysyllables += 1\n",
    "                except:\n",
    "                    continue\n",
    "\n",
    "    # SMOG formula (based on 30-sentence sample)\n",
    "    smog = 1.0430 * math.sqrt((polysyllables * 30) / len(sample_sentences)) + 3.1291\n",
    "    return round(smog, 2)"
   ]
  },
  {
   "cell_type": "markdown",
   "id": "f3d60e31-f90c-46b5-b1e9-8b4fd60ea628",
   "metadata": {},
   "source": [
    "<b style=\"color:blue;\">Test to Sample - Started</b>"
   ]
  },
  {
   "cell_type": "code",
   "execution_count": 15,
   "id": "3d452a24-6d72-4f8a-9749-2957fe6d8acb",
   "metadata": {},
   "outputs": [],
   "source": [
    "sample_df = rq2_df[rq2_df['speech'].notna()].sample(1000, random_state=42).copy()"
   ]
  },
  {
   "cell_type": "code",
   "execution_count": 16,
   "id": "d7a5ec88-f29a-444b-be02-6cfe8ee0a589",
   "metadata": {},
   "outputs": [],
   "source": [
    "sample_df['smog_score'] = sample_df['speech_for_smog'].apply(compute_smog)"
   ]
  },
  {
   "cell_type": "code",
   "execution_count": 17,
   "id": "97b0d276-214f-4886-ab84-9e1100f3c492",
   "metadata": {},
   "outputs": [
    {
     "data": {
      "text/plain": [
       "count    19.000000\n",
       "mean     17.904737\n",
       "std       1.535442\n",
       "min      14.120000\n",
       "25%      17.110000\n",
       "50%      17.470000\n",
       "75%      19.215000\n",
       "max      20.570000\n",
       "Name: smog_score, dtype: float64"
      ]
     },
     "execution_count": 17,
     "metadata": {},
     "output_type": "execute_result"
    }
   ],
   "source": [
    "sample_df['smog_score'].describe()"
   ]
  },
  {
   "cell_type": "markdown",
   "id": "58fd24c4-e520-4629-9b30-14eb0c6f9dcc",
   "metadata": {},
   "source": [
    "<b style=\"color:blue;\">Test to Sample - END</b>"
   ]
  },
  {
   "cell_type": "code",
   "execution_count": 18,
   "id": "e447b284-9386-4f3b-b8de-edc25344d040",
   "metadata": {},
   "outputs": [
    {
     "data": {
      "application/vnd.jupyter.widget-view+json": {
       "model_id": "e329acf5a5d64f53b5e86952e2d9c952",
       "version_major": 2,
       "version_minor": 0
      },
      "text/plain": [
       "  0%|          | 0/341805 [00:00<?, ?it/s]"
      ]
     },
     "metadata": {},
     "output_type": "display_data"
    }
   ],
   "source": [
    "rq2_df['smog_score'] = rq2_df['speech_for_smog'].progress_apply(compute_smog)"
   ]
  },
  {
   "cell_type": "code",
   "execution_count": 19,
   "id": "4409bae2-2563-4848-828b-1e6758d8bdf2",
   "metadata": {},
   "outputs": [],
   "source": [
    "columns_to_keep = [\n",
    "    'member_name', 'year', 'political_party', 'is_government',\n",
    "    'speaker_gov_role', 'leadership_role', 'roles', 'smog_score'\n",
    "]\n",
    "rq2_results_df = rq2_df[columns_to_keep].copy()"
   ]
  },
  {
   "cell_type": "markdown",
   "id": "f9fa2d94-18ce-4811-9538-e6772e2eded3",
   "metadata": {},
   "source": [
    "<b style=\"color:red;\">Checkpoint-Saved</b>"
   ]
  },
  {
   "cell_type": "code",
   "execution_count": 20,
   "id": "4390aec1-ef37-468e-be3c-3382ee0897da",
   "metadata": {},
   "outputs": [],
   "source": [
    "rq2_results_df.to_csv('RQ2_results_df.csv', index=False)"
   ]
  },
  {
   "cell_type": "code",
   "execution_count": 22,
   "id": "13813929-8837-4eb5-8eed-2d0a7ae4182a",
   "metadata": {},
   "outputs": [
    {
     "data": {
      "text/plain": [
       "count    8347.000000\n",
       "mean       18.787255\n",
       "std         2.469414\n",
       "min        12.040000\n",
       "25%        17.020000\n",
       "50%        18.620000\n",
       "75%        20.410000\n",
       "max        31.490000\n",
       "Name: smog_score, dtype: float64"
      ]
     },
     "execution_count": 22,
     "metadata": {},
     "output_type": "execute_result"
    }
   ],
   "source": [
    "rq2_results_df['smog_score'].describe()"
   ]
  },
  {
   "cell_type": "markdown",
   "id": "2407fd54-e86a-4c2a-ae09-cddb5d5fe394",
   "metadata": {},
   "source": [
    "## 📒03 Analysis RQ3 - Semantic Drift - Greek-BERT"
   ]
  },
  {
   "cell_type": "code",
   "execution_count": null,
   "id": "5b93b152-df9f-4d15-8424-22c2e97131f2",
   "metadata": {},
   "outputs": [],
   "source": []
  },
  {
   "cell_type": "code",
   "execution_count": null,
   "id": "f6358928-0918-4780-adbf-4f7a15906821",
   "metadata": {},
   "outputs": [],
   "source": []
  }
 ],
 "metadata": {
  "kernelspec": {
   "display_name": "Python (proceedings-asds2)",
   "language": "python",
   "name": "proceedings-asds2"
  },
  "language_info": {
   "codemirror_mode": {
    "name": "ipython",
    "version": 3
   },
   "file_extension": ".py",
   "mimetype": "text/x-python",
   "name": "python",
   "nbconvert_exporter": "python",
   "pygments_lexer": "ipython3",
   "version": "3.10.18"
  }
 },
 "nbformat": 4,
 "nbformat_minor": 5
}
