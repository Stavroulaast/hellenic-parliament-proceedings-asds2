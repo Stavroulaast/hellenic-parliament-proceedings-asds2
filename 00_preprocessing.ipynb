{
 "cells": [
  {
   "cell_type": "markdown",
   "id": "91a09ddb-aa3a-4667-93af-58c0257b9ad4",
   "metadata": {},
   "source": [
    "## 📙 00 Preprocessing\n",
    "\n",
    "This notebook includes the preparation of Hellenic Parliament Proceedings dataset for analysis. This preprocessing steps follow best practices in political text analysis (Denny & Spirling 2017) to accomodate the specific needs for each downstream analysis of each Research Question."
   ]
  },
  {
   "cell_type": "code",
   "execution_count": 1,
   "id": "6bf437f9-fb5d-48e9-a4ad-ff0a9d310c9e",
   "metadata": {},
   "outputs": [
    {
     "data": {
      "application/vnd.jupyter.widget-view+json": {
       "model_id": "0f46e000ac2f48e5b1887c2a0fab3859",
       "version_major": 2,
       "version_minor": 0
      },
      "text/plain": [
       "IntSlider(value=0)"
      ]
     },
     "execution_count": 1,
     "metadata": {},
     "output_type": "execute_result"
    }
   ],
   "source": [
    "#data-cleaning-processing-core-libs\n",
    "import pandas as pd\n",
    "import numpy as np\n",
    "from tqdm.notebook import tqdm\n",
    "import time\n",
    "tqdm.pandas()\n",
    "import ipywidgets as widgets\n",
    "widgets.IntSlider()\n",
    "\n",
    "#text-processing\n",
    "import re\n",
    "import string\n",
    "import unicodedata\n",
    "\n",
    "#greek-nlp-toolkit-Loukas(2024)\n",
    "from gr_nlp_toolkit import Pipeline\n",
    "\n",
    "#greek-stopwords\n",
    "import stopwordsiso as stopwords_iso\n",
    "greek_stopwords = list(stopwords_iso.stopwords(\"el\"))"
   ]
  },
  {
   "cell_type": "code",
   "execution_count": 35,
   "id": "10ce2e55-541d-4aee-9348-071ea722f43a",
   "metadata": {},
   "outputs": [],
   "source": [
    "df = pd.read_csv('par10_20c.csv')"
   ]
  },
  {
   "cell_type": "code",
   "execution_count": 36,
   "id": "27ab5f70-3958-4d6e-8624-a3106b644eab",
   "metadata": {},
   "outputs": [
    {
     "name": "stdout",
     "output_type": "stream",
     "text": [
      "<class 'pandas.core.frame.DataFrame'>\n",
      "RangeIndex: 536446 entries, 0 to 536445\n",
      "Data columns (total 11 columns):\n",
      " #   Column                 Non-Null Count   Dtype \n",
      "---  ------                 --------------   ----- \n",
      " 0   member_name            522524 non-null  object\n",
      " 1   sitting_date           536446 non-null  object\n",
      " 2   parliamentary_period   536446 non-null  object\n",
      " 3   parliamentary_session  536446 non-null  object\n",
      " 4   parliamentary_sitting  536446 non-null  object\n",
      " 5   political_party        536327 non-null  object\n",
      " 6   government             536446 non-null  object\n",
      " 7   member_region          513121 non-null  object\n",
      " 8   roles                  522524 non-null  object\n",
      " 9   member_gender          522524 non-null  object\n",
      " 10  speech                 536446 non-null  object\n",
      "dtypes: object(11)\n",
      "memory usage: 45.0+ MB\n"
     ]
    }
   ],
   "source": [
    "df.info()"
   ]
  },
  {
   "cell_type": "markdown",
   "id": "25fd985f-2aef-447b-8b71-8efafe785964",
   "metadata": {},
   "source": [
    "### Data handling & Cleaning"
   ]
  },
  {
   "cell_type": "markdown",
   "id": "f1a9f650-83f8-4b56-945c-39b0c89fbc86",
   "metadata": {},
   "source": [
    "Irrelevant columns that are not useful for textual or contextual analysis are dropped:"
   ]
  },
  {
   "cell_type": "code",
   "execution_count": 37,
   "id": "752c6341-1deb-4994-a7a9-12fac0bc1480",
   "metadata": {},
   "outputs": [],
   "source": [
    "columns_to_drop = [\"parliamentary_session\", \"parliamentary_sitting\", \"parliamentary_period\",\"member_region\"]\n",
    "df = df.drop(columns=columns_to_drop)"
   ]
  },
  {
   "cell_type": "markdown",
   "id": "0b51fc6e-e04c-4429-b3ef-7df21fb1b525",
   "metadata": {},
   "source": [
    "Rows with missing critical values such as member_name, roles, member_gender, and political_party are dropped"
   ]
  },
  {
   "cell_type": "code",
   "execution_count": 38,
   "id": "76db4d81-6d4b-483f-846a-796ad159b95c",
   "metadata": {},
   "outputs": [
    {
     "name": "stdout",
     "output_type": "stream",
     "text": [
      "member_name        2.60\n",
      "roles              2.60\n",
      "member_gender      2.60\n",
      "political_party    0.02\n",
      "sitting_date       0.00\n",
      "government         0.00\n",
      "speech             0.00\n",
      "dtype: float64\n"
     ]
    }
   ],
   "source": [
    "missing_percent = df.isnull().mean().sort_values(ascending=False) * 100\n",
    "print(missing_percent.round(2))"
   ]
  },
  {
   "cell_type": "code",
   "execution_count": 39,
   "id": "74909e81-34d1-4d62-b084-7213a63d3578",
   "metadata": {},
   "outputs": [],
   "source": [
    "df = df.dropna(subset=[\"member_name\", \"roles\", \"member_gender\", \"political_party\"])"
   ]
  },
  {
   "cell_type": "markdown",
   "id": "cd4822ac-bdf1-4788-b71d-c10352dc6ae0",
   "metadata": {},
   "source": [
    "A new column year is extracted from sitting_date to facilitate time-based analysis."
   ]
  },
  {
   "cell_type": "code",
   "execution_count": 40,
   "id": "f6df0d2f-3b78-4a47-8933-abf5b7e6b396",
   "metadata": {},
   "outputs": [],
   "source": [
    "df['sitting_date'] = pd.to_datetime(df['sitting_date'], errors='coerce')"
   ]
  },
  {
   "cell_type": "markdown",
   "id": "b6274ba2-4f7a-4838-bda5-c1a23065ea99",
   "metadata": {},
   "source": [
    "     "
   ]
  },
  {
   "cell_type": "code",
   "execution_count": 41,
   "id": "12ccb1b7-9318-4e03-9a51-76fd41c19988",
   "metadata": {},
   "outputs": [],
   "source": [
    "df['year'] = df['sitting_date'].dt.year"
   ]
  },
  {
   "cell_type": "code",
   "execution_count": 42,
   "id": "491d6c02-ad32-46ec-8990-edd72a0e5d61",
   "metadata": {},
   "outputs": [
    {
     "data": {
      "text/plain": [
       "array(['πανελληνιο σοσιαλιστικο κινημα', 'νεα δημοκρατια',\n",
       "       'εξωκοινοβουλευτικός', 'κομμουνιστικο κομμα ελλαδας',\n",
       "       'λαικος ορθοδοξος συναγερμος',\n",
       "       'συνασπισμος ριζοσπαστικης αριστερας',\n",
       "       'ανεξαρτητοι (εκτος κομματος)', 'δημοκρατικη αριστερα',\n",
       "       'ανεξαρτητοι ελληνες - πανος καμμενος',\n",
       "       'λαικος συνδεσμος - χρυση αυγη',\n",
       "       'ανεξαρτητοι δημοκρατικοι βουλευτες', 'το ποταμι',\n",
       "       'ανεξαρτητοι ελληνες εθνικη πατριωτικη δημοκρατικη συμμαχια',\n",
       "       'λαικη ενοτητα',\n",
       "       'δημοκρατικη συμπαραταξη (πανελληνιο σοσιαλιστικο κινημα - δημοκρατικη αριστερα)',\n",
       "       'ενωση κεντρωων', 'κινημα αλλαγης',\n",
       "       'ελληνικη λυση - κυριακος βελοπουλος',\n",
       "       'μετωπο ευρωπαικης ρεαλιστικης ανυπακοης (μερα25)'], dtype=object)"
      ]
     },
     "execution_count": 42,
     "metadata": {},
     "output_type": "execute_result"
    }
   ],
   "source": [
    "df['political_party'].unique()"
   ]
  },
  {
   "cell_type": "code",
   "execution_count": 43,
   "id": "69b09127-2634-44d3-93ce-c723877b49a3",
   "metadata": {},
   "outputs": [
    {
     "data": {
      "text/plain": [
       "array([\"['παπανδρεου α. γεωργιου(06/10/2009-11/11/2011)']\",\n",
       "       \"['παπαδημου λουκα δ.(11/11/2011-17/05/2012)']\",\n",
       "       \"['πικραμμενου παναγιωτη οθ. (υπηρεσιακη)(17/05/2012-21/06/2012)']\",\n",
       "       \"['σαμαρα κ. αντωνιου(21/06/2012-26/01/2015)']\",\n",
       "       \"['τσιπρα π. αλεξιου(26/01/2015-27/08/2015)']\",\n",
       "       \"['τσιπρα π. αλεξιου(21/09/2015-08/07/2019)']\",\n",
       "       \"['μητσοτακη κυριακου(08/07/2019-28/07/2020)']\"], dtype=object)"
      ]
     },
     "execution_count": 43,
     "metadata": {},
     "output_type": "execute_result"
    }
   ],
   "source": [
    "df['government'].unique()"
   ]
  },
  {
   "cell_type": "markdown",
   "id": "88ad959b-ffc7-40a3-9a89-f4cd46e1759a",
   "metadata": {},
   "source": [
    "A custom mapping is created that links prime minister names, years, and their coalition parties"
   ]
  },
  {
   "cell_type": "code",
   "execution_count": 44,
   "id": "d162164e-cb34-4c59-87c1-25a96b428afa",
   "metadata": {},
   "outputs": [],
   "source": [
    "# Define the government coalition mapping (PM name substring, years, and parties)\n",
    "gov_coalitions = [\n",
    "    {\n",
    "        'pm': 'παπανδρεου α. γεωργιου',\n",
    "        'years': [2009, 2010, 2011],\n",
    "        'parties': ['πανελληνιο σοσιαλιστικο κινημα']\n",
    "    },\n",
    "    {\n",
    "        'pm': 'παπαδημου λουκα δ.',\n",
    "        'years': [2011, 2012],\n",
    "        'parties': ['πανελληνιο σοσιαλιστικο κινημα', 'νεα δημοκρατια', 'λαικος ορθοδοξος συναγερμος']\n",
    "    },\n",
    "    {\n",
    "        'pm': 'σαμαρα κ. αντωνιου',\n",
    "        'years': [2012, 2013, 2014, 2015],\n",
    "        'parties': ['πανελληνιο σοσιαλιστικο κινημα', 'νεα δημοκρατια']\n",
    "    },\n",
    "    {\n",
    "        'pm': 'τσιπρα π. αλεξιου',\n",
    "        'years': [2015, 2016, 2017, 2018, 2019],\n",
    "        'parties': ['συνασπισμος ριζοσπαστικης αριστερας', 'ανεξαρτητοι ελληνες εθνικη πατριωτικη δημοκρατικη συμμαχια']\n",
    "    }\n",
    "]"
   ]
  },
  {
   "cell_type": "markdown",
   "id": "f7392bb1-ca94-41b8-8b3d-a0a6a822a38f",
   "metadata": {},
   "source": [
    "A function is defined to check whether a speaker is part of the governing coalition "
   ]
  },
  {
   "cell_type": "code",
   "execution_count": 45,
   "id": "fb6647f5-f0d4-4a90-bf81-64e950b559b9",
   "metadata": {},
   "outputs": [],
   "source": [
    "# Function to check if a speaker was in government\n",
    "def is_government(row):\n",
    "    gov_name = row['government'].lower()\n",
    "    party = row['political_party'].lower()\n",
    "    year = row['year']\n",
    "\n",
    "    for coalition in gov_coalitions:\n",
    "        if (coalition['pm'] in gov_name) and (year in coalition['years']) and (party in coalition['parties']):\n",
    "            return 1\n",
    "    return 0"
   ]
  },
  {
   "cell_type": "code",
   "execution_count": 46,
   "id": "1b514e15-da4b-49ec-ad2a-abce438751fb",
   "metadata": {},
   "outputs": [],
   "source": [
    "df['is_government'] = df.apply(is_government, axis=1)"
   ]
  },
  {
   "cell_type": "markdown",
   "id": "dbb71d14-10d7-4dc5-97a3-b7393856284e",
   "metadata": {},
   "source": [
    "A function is defined to extract speaker role in government"
   ]
  },
  {
   "cell_type": "code",
   "execution_count": 47,
   "id": "a0a665cb-3854-45f2-baf8-8e6fa1690ade",
   "metadata": {},
   "outputs": [],
   "source": [
    "gov_titles = [\n",
    "    'πρωθυπουργος',\n",
    "    'αντιπροεδρος της κυβερνησης',\n",
    "    'αναπληρωτης υπουργος',\n",
    "    'υπουργος',\n",
    "    'υφυπουργος'\n",
    "]\n"
   ]
  },
  {
   "cell_type": "code",
   "execution_count": 48,
   "id": "32afa846-8778-4f2e-95f0-fabc6cf94f11",
   "metadata": {},
   "outputs": [],
   "source": [
    "def extract_speaker_role(role_text):\n",
    "    role_text = str(role_text).lower()\n",
    "    for title in gov_titles:\n",
    "        if title in role_text:\n",
    "            return title\n",
    "    return None"
   ]
  },
  {
   "cell_type": "code",
   "execution_count": 49,
   "id": "9e29a4d0-266a-4318-bc93-1cd6f0b469c0",
   "metadata": {},
   "outputs": [],
   "source": [
    "df['speaker_gov_role'] = df['roles'].apply(extract_speaker_role)"
   ]
  },
  {
   "cell_type": "code",
   "execution_count": 50,
   "id": "0af9ce0c-5dee-47b0-952e-b9b2fd7cb7ac",
   "metadata": {},
   "outputs": [],
   "source": [
    "leadership_titles = [\n",
    "    'αρχηγος κομματος',\n",
    "    'αρχηγος αξιωματικης αντιπολιτευσης'\n",
    "]"
   ]
  },
  {
   "cell_type": "markdown",
   "id": "0b6607b1-ce19-4ec0-b9c2-8fe3e7043b61",
   "metadata": {},
   "source": [
    "A function is defined to what the speaker's leadership role"
   ]
  },
  {
   "cell_type": "code",
   "execution_count": 51,
   "id": "a9835781-1976-45f8-aa87-106360044f31",
   "metadata": {},
   "outputs": [],
   "source": [
    "def extract_leadership_role(role_text):\n",
    "    role_text = str(role_text).lower()\n",
    "    for title in leadership_titles:\n",
    "        if title in role_text:\n",
    "            return title\n",
    "    return None"
   ]
  },
  {
   "cell_type": "code",
   "execution_count": 52,
   "id": "ed340f9d-7536-45f7-8b4a-7d0eeede639d",
   "metadata": {},
   "outputs": [],
   "source": [
    "df['leadership_role'] = df['roles'].apply(extract_leadership_role)"
   ]
  },
  {
   "cell_type": "code",
   "execution_count": 53,
   "id": "9f140db3-ab0c-42cd-9496-4a0b905f26f8",
   "metadata": {},
   "outputs": [],
   "source": [
    "df = df[~df['roles'].str.contains('αντιπροεδρος βουλης|προεδρος βουλης|αντιπροεδρος', case=False, na=False)]"
   ]
  },
  {
   "cell_type": "markdown",
   "id": "0659efcb-94e9-4f0f-b168-d78b27cc031a",
   "metadata": {},
   "source": [
    "### Preprocessing Speech Text Pipeline"
   ]
  },
  {
   "cell_type": "code",
   "execution_count": 11,
   "id": "18a00d06-7d07-4ac0-8a5c-2b4d296f36d0",
   "metadata": {},
   "outputs": [],
   "source": [
    "p_df = pd.read_csv('processed01_par10-20.csv')"
   ]
  },
  {
   "cell_type": "code",
   "execution_count": 12,
   "id": "478ade2c-0441-4c61-b4b3-13ae68705d8c",
   "metadata": {},
   "outputs": [
    {
     "name": "stdout",
     "output_type": "stream",
     "text": [
      "<class 'pandas.core.frame.DataFrame'>\n",
      "RangeIndex: 341805 entries, 0 to 341804\n",
      "Data columns (total 13 columns):\n",
      " #   Column            Non-Null Count   Dtype \n",
      "---  ------            --------------   ----- \n",
      " 0   Unnamed: 0        341805 non-null  int64 \n",
      " 1   member_name       341805 non-null  object\n",
      " 2   sitting_date      341805 non-null  object\n",
      " 3   political_party   341805 non-null  object\n",
      " 4   government        341805 non-null  object\n",
      " 5   roles             341805 non-null  object\n",
      " 6   member_gender     341805 non-null  object\n",
      " 7   speech            341805 non-null  object\n",
      " 8   year              341805 non-null  int64 \n",
      " 9   is_government     341805 non-null  int64 \n",
      " 10  speaker_gov_role  60473 non-null   object\n",
      " 11  leadership_role   10689 non-null   object\n",
      " 12  speech_clean      341668 non-null  object\n",
      "dtypes: int64(3), object(10)\n",
      "memory usage: 33.9+ MB\n"
     ]
    }
   ],
   "source": [
    "p_df.info()"
   ]
  },
  {
   "cell_type": "code",
   "execution_count": 13,
   "id": "424c1d88-3c56-455a-8126-3492a6c9fd95",
   "metadata": {},
   "outputs": [
    {
     "data": {
      "text/html": [
       "<div>\n",
       "<style scoped>\n",
       "    .dataframe tbody tr th:only-of-type {\n",
       "        vertical-align: middle;\n",
       "    }\n",
       "\n",
       "    .dataframe tbody tr th {\n",
       "        vertical-align: top;\n",
       "    }\n",
       "\n",
       "    .dataframe thead th {\n",
       "        text-align: right;\n",
       "    }\n",
       "</style>\n",
       "<table border=\"1\" class=\"dataframe\">\n",
       "  <thead>\n",
       "    <tr style=\"text-align: right;\">\n",
       "      <th></th>\n",
       "      <th>Unnamed: 0</th>\n",
       "      <th>member_name</th>\n",
       "      <th>sitting_date</th>\n",
       "      <th>political_party</th>\n",
       "      <th>government</th>\n",
       "      <th>roles</th>\n",
       "      <th>member_gender</th>\n",
       "      <th>speech</th>\n",
       "      <th>year</th>\n",
       "      <th>is_government</th>\n",
       "      <th>speaker_gov_role</th>\n",
       "      <th>leadership_role</th>\n",
       "      <th>speech_clean</th>\n",
       "    </tr>\n",
       "  </thead>\n",
       "  <tbody>\n",
       "    <tr>\n",
       "      <th>0</th>\n",
       "      <td>0</td>\n",
       "      <td>τσιαρας αλεξανδρου κωνσταντινος</td>\n",
       "      <td>2010-01-11</td>\n",
       "      <td>νεα δημοκρατια</td>\n",
       "      <td>['παπανδρεου α. γεωργιου(06/10/2009-11/11/2011)']</td>\n",
       "      <td>['βουλευτης']</td>\n",
       "      <td>male</td>\n",
       "      <td>Σας ευχαριστώ πολύ, κύριε Πρόεδρε. Κυρίες και...</td>\n",
       "      <td>2010</td>\n",
       "      <td>0</td>\n",
       "      <td>NaN</td>\n",
       "      <td>NaN</td>\n",
       "      <td>σας πολυ, . και , μιας και ειναι η πρωτη μερα ...</td>\n",
       "    </tr>\n",
       "    <tr>\n",
       "      <th>1</th>\n",
       "      <td>1</td>\n",
       "      <td>ζωης κωνσταντινου χρηστος</td>\n",
       "      <td>2010-01-11</td>\n",
       "      <td>νεα δημοκρατια</td>\n",
       "      <td>['παπανδρεου α. γεωργιου(06/10/2009-11/11/2011)']</td>\n",
       "      <td>['βουλευτης']</td>\n",
       "      <td>male</td>\n",
       "      <td>Ευχαριστώ, κύριε Πρόεδρε.Επιτρέψτε μου κι εμέ...</td>\n",
       "      <td>2010</td>\n",
       "      <td>0</td>\n",
       "      <td>NaN</td>\n",
       "      <td>NaN</td>\n",
       "      <td>, .επιτρεψτε μου κι εμενα, πριν απ’ ολα, να απ...</td>\n",
       "    </tr>\n",
       "    <tr>\n",
       "      <th>2</th>\n",
       "      <td>2</td>\n",
       "      <td>ζωης κωνσταντινου χρηστος</td>\n",
       "      <td>2010-01-11</td>\n",
       "      <td>νεα δημοκρατια</td>\n",
       "      <td>['παπανδρεου α. γεωργιου(06/10/2009-11/11/2011)']</td>\n",
       "      <td>['βουλευτης']</td>\n",
       "      <td>male</td>\n",
       "      <td>Εσείς δυστυχώς πρέπει να αναθεωρήσετε τις θέσ...</td>\n",
       "      <td>2010</td>\n",
       "      <td>0</td>\n",
       "      <td>NaN</td>\n",
       "      <td>NaN</td>\n",
       "      <td>εσεις δυστυχως πρεπει να αναθεωρησετε τις θεσε...</td>\n",
       "    </tr>\n",
       "    <tr>\n",
       "      <th>3</th>\n",
       "      <td>3</td>\n",
       "      <td>ταλιαδουρος αθανασιου σπυριδων</td>\n",
       "      <td>2010-01-11</td>\n",
       "      <td>νεα δημοκρατια</td>\n",
       "      <td>['παπανδρεου α. γεωργιου(06/10/2009-11/11/2011)']</td>\n",
       "      <td>['βουλευτης']</td>\n",
       "      <td>male</td>\n",
       "      <td>Κύριε Πρόεδρε, όπως επισημάνθηκε και από τους...</td>\n",
       "      <td>2010</td>\n",
       "      <td>0</td>\n",
       "      <td>NaN</td>\n",
       "      <td>NaN</td>\n",
       "      <td>, οπως επισημανθηκε και απο τους συναδελφους μ...</td>\n",
       "    </tr>\n",
       "    <tr>\n",
       "      <th>4</th>\n",
       "      <td>4</td>\n",
       "      <td>χαρακοπουλος παντελη μαξιμος</td>\n",
       "      <td>2010-01-11</td>\n",
       "      <td>νεα δημοκρατια</td>\n",
       "      <td>['παπανδρεου α. γεωργιου(06/10/2009-11/11/2011)']</td>\n",
       "      <td>['βουλευτης']</td>\n",
       "      <td>male</td>\n",
       "      <td>Ευχαριστώ πολύ, κύριε Πρόεδρε.Κυρίες και κύρι...</td>\n",
       "      <td>2010</td>\n",
       "      <td>0</td>\n",
       "      <td>NaN</td>\n",
       "      <td>NaN</td>\n",
       "      <td>πολυ, . και , η ερωτηση που καταθεσαμε οι βουλ...</td>\n",
       "    </tr>\n",
       "  </tbody>\n",
       "</table>\n",
       "</div>"
      ],
      "text/plain": [
       "   Unnamed: 0                      member_name sitting_date political_party  \\\n",
       "0           0  τσιαρας αλεξανδρου κωνσταντινος   2010-01-11  νεα δημοκρατια   \n",
       "1           1        ζωης κωνσταντινου χρηστος   2010-01-11  νεα δημοκρατια   \n",
       "2           2        ζωης κωνσταντινου χρηστος   2010-01-11  νεα δημοκρατια   \n",
       "3           3   ταλιαδουρος αθανασιου σπυριδων   2010-01-11  νεα δημοκρατια   \n",
       "4           4     χαρακοπουλος παντελη μαξιμος   2010-01-11  νεα δημοκρατια   \n",
       "\n",
       "                                          government          roles  \\\n",
       "0  ['παπανδρεου α. γεωργιου(06/10/2009-11/11/2011)']  ['βουλευτης']   \n",
       "1  ['παπανδρεου α. γεωργιου(06/10/2009-11/11/2011)']  ['βουλευτης']   \n",
       "2  ['παπανδρεου α. γεωργιου(06/10/2009-11/11/2011)']  ['βουλευτης']   \n",
       "3  ['παπανδρεου α. γεωργιου(06/10/2009-11/11/2011)']  ['βουλευτης']   \n",
       "4  ['παπανδρεου α. γεωργιου(06/10/2009-11/11/2011)']  ['βουλευτης']   \n",
       "\n",
       "  member_gender                                             speech  year  \\\n",
       "0          male   Σας ευχαριστώ πολύ, κύριε Πρόεδρε. Κυρίες και...  2010   \n",
       "1          male   Ευχαριστώ, κύριε Πρόεδρε.Επιτρέψτε μου κι εμέ...  2010   \n",
       "2          male   Εσείς δυστυχώς πρέπει να αναθεωρήσετε τις θέσ...  2010   \n",
       "3          male   Κύριε Πρόεδρε, όπως επισημάνθηκε και από τους...  2010   \n",
       "4          male   Ευχαριστώ πολύ, κύριε Πρόεδρε.Κυρίες και κύρι...  2010   \n",
       "\n",
       "   is_government speaker_gov_role leadership_role  \\\n",
       "0              0              NaN             NaN   \n",
       "1              0              NaN             NaN   \n",
       "2              0              NaN             NaN   \n",
       "3              0              NaN             NaN   \n",
       "4              0              NaN             NaN   \n",
       "\n",
       "                                        speech_clean  \n",
       "0  σας πολυ, . και , μιας και ειναι η πρωτη μερα ...  \n",
       "1  , .επιτρεψτε μου κι εμενα, πριν απ’ ολα, να απ...  \n",
       "2  εσεις δυστυχως πρεπει να αναθεωρησετε τις θεσε...  \n",
       "3  , οπως επισημανθηκε και απο τους συναδελφους μ...  \n",
       "4  πολυ, . και , η ερωτηση που καταθεσαμε οι βουλ...  "
      ]
     },
     "execution_count": 13,
     "metadata": {},
     "output_type": "execute_result"
    }
   ],
   "source": [
    "p_df.head()"
   ]
  },
  {
   "cell_type": "markdown",
   "id": "d8200252-4b1e-4c23-b5f3-24347390ced9",
   "metadata": {},
   "source": [
    "Removes diacritics (accent marks) from Greek characters using Unicode normalization to standardize text."
   ]
  },
  {
   "cell_type": "code",
   "execution_count": 11,
   "id": "a7370d85-4017-4c1c-bf64-e11bfc6e7f63",
   "metadata": {},
   "outputs": [],
   "source": [
    "#removing ntonation/diacritics (accent marks) used in written greek\n",
    "def remove_greek_diacritics(text):\n",
    "    text = str(text)\n",
    "    text = unicodedata.normalize(\"NFD\", text)\n",
    "    text = ''.join([char for char in text if not unicodedata.combining(char)])\n",
    "    return text"
   ]
  },
  {
   "cell_type": "markdown",
   "id": "c3bcb031-6db4-4d98-9ebc-9da55230519e",
   "metadata": {},
   "source": [
    "Cleans speech text by removing diacritics, lowercasing, filtering out formal expressions, punctuation, numbers, and excess whitespace."
   ]
  },
  {
   "cell_type": "code",
   "execution_count": 14,
   "id": "fa65d86f-4b09-45e8-afc5-38101adb11f7",
   "metadata": {},
   "outputs": [],
   "source": [
    "def basic_cleaning(text):\n",
    "    # Remove Greek diacritics\n",
    "    text = remove_greek_diacritics(text)\n",
    "    \n",
    "    # Lowercase\n",
    "    text = text.lower()\n",
    "    \n",
    "    # Remove formal expressions and honorifics\n",
    "    patterns_to_remove = [\n",
    "        r'κυριε\\s+(υπουργε|υφυπουργε|προεδρε|αντιπροεδρε)',\n",
    "        r'\\bκ\\.\\s*',\n",
    "        r'\\bευχαριστω\\b',\n",
    "        r'\\bαγαπητοι συναδελφοι\\b',\n",
    "        r'\\bκυριοι συναδελφοι\\b',\n",
    "        r'\\bκυριες\\b'\n",
    "    ]\n",
    "    for pattern in patterns_to_remove:\n",
    "        text = re.sub(pattern, '', text)\n",
    "    \n",
    "    # Remove punctuation\n",
    "    text = re.sub(r'[^\\w\\s]', '', text)\n",
    "    \n",
    "    # Remove numbers\n",
    "    text = re.sub(r'\\d+', '', text)\n",
    "    \n",
    "    # Remove extra whitespace\n",
    "    text = re.sub(r'\\s+', ' ', text).strip()\n",
    "    \n",
    "    return text"
   ]
  },
  {
   "cell_type": "markdown",
   "id": "27296713-5878-4958-8867-0d54935f4f31",
   "metadata": {},
   "source": [
    "Removes Greek stopwords from the text to reduce noise and retain meaningful content."
   ]
  },
  {
   "cell_type": "code",
   "execution_count": 8,
   "id": "23ae493a-38af-4508-8e6c-482d2458e6e2",
   "metadata": {},
   "outputs": [],
   "source": [
    "#stopwords_removal-function\n",
    "def stopwords_removal(text):\n",
    "    #remove stopwords\n",
    "    words = text.split()\n",
    "    words = [word for word in words if word not in greek_stopwords]\n",
    "    return ' '.join(words)"
   ]
  },
  {
   "cell_type": "code",
   "execution_count": 17,
   "id": "dfc2cd83-0c40-4218-8556-5905dbe4575d",
   "metadata": {},
   "outputs": [
    {
     "data": {
      "application/vnd.jupyter.widget-view+json": {
       "model_id": "16091ba13bbb4d6c8b026a20e5312a63",
       "version_major": 2,
       "version_minor": 0
      },
      "text/plain": [
       "  0%|          | 0/341805 [00:00<?, ?it/s]"
      ]
     },
     "metadata": {},
     "output_type": "display_data"
    }
   ],
   "source": [
    "p_df['speech_clean'] = p_df['speech'].progress_apply(basic_cleaning)"
   ]
  }
 ],
 "metadata": {
  "kernelspec": {
   "display_name": "Python (proceedings-asds2)",
   "language": "python",
   "name": "proceedings-asds2"
  },
  "language_info": {
   "codemirror_mode": {
    "name": "ipython",
    "version": 3
   },
   "file_extension": ".py",
   "mimetype": "text/x-python",
   "name": "python",
   "nbconvert_exporter": "python",
   "pygments_lexer": "ipython3",
   "version": "3.10.18"
  }
 },
 "nbformat": 4,
 "nbformat_minor": 5
}
